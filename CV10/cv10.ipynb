{
 "cells": [
  {
   "cell_type": "markdown",
   "metadata": {},
   "source": [
    " # Cvičení 9. \n",
    " ## Michal Béreš, Martina Litschmannová, Veronika Kubíčková"
   ]
  },
  {
   "cell_type": "markdown",
   "metadata": {},
   "source": [
    "# Od intervalových odhadů k testům hypotéz\n",
    "## Co je to statistický test hypotéz?"
   ]
  },
  {
   "cell_type": "markdown",
   "metadata": {},
   "source": [
    "## Intervalový odhad a hladina významnosti"
   ]
  },
  {
   "cell_type": "code",
   "execution_count": 70,
   "metadata": {},
   "outputs": [
    {
     "data": {
      "text/html": [
       "<table class=\"dataframe\">\n",
       "<caption>A tibble: 6 × 1</caption>\n",
       "<thead>\n",
       "\t<tr><th scope=col>data</th></tr>\n",
       "\t<tr><th scope=col>&lt;dbl&gt;</th></tr>\n",
       "</thead>\n",
       "<tbody>\n",
       "\t<tr><td> 75.91</td></tr>\n",
       "\t<tr><td>109.00</td></tr>\n",
       "\t<tr><td>107.89</td></tr>\n",
       "\t<tr><td>102.95</td></tr>\n",
       "\t<tr><td> 98.93</td></tr>\n",
       "\t<tr><td>105.71</td></tr>\n",
       "</tbody>\n",
       "</table>\n"
      ],
      "text/latex": [
       "A tibble: 6 × 1\n",
       "\\begin{tabular}{l}\n",
       " data\\\\\n",
       " <dbl>\\\\\n",
       "\\hline\n",
       "\t  75.91\\\\\n",
       "\t 109.00\\\\\n",
       "\t 107.89\\\\\n",
       "\t 102.95\\\\\n",
       "\t  98.93\\\\\n",
       "\t 105.71\\\\\n",
       "\\end{tabular}\n"
      ],
      "text/markdown": [
       "\n",
       "A tibble: 6 × 1\n",
       "\n",
       "| data &lt;dbl&gt; |\n",
       "|---|\n",
       "|  75.91 |\n",
       "| 109.00 |\n",
       "| 107.89 |\n",
       "| 102.95 |\n",
       "|  98.93 |\n",
       "| 105.71 |\n",
       "\n"
      ],
      "text/plain": [
       "  data  \n",
       "1  75.91\n",
       "2 109.00\n",
       "3 107.89\n",
       "4 102.95\n",
       "5  98.93\n",
       "6 105.71"
      ]
     },
     "metadata": {},
     "output_type": "display_data"
    }
   ],
   "source": [
    "data = readxl::read_excel(\"data/uvod.xlsx\")\n",
    "head(data)"
   ]
  },
  {
   "cell_type": "code",
   "execution_count": 71,
   "metadata": {},
   "outputs": [
    {
     "data": {
      "image/png": "[encoded data removed]",
      "text/plain": [
       "Plot with title “Histogram of data$data”"
      ]
     },
     "metadata": {
      "image/png": {
       "height": 420,
       "width": 720
      }
     },
     "output_type": "display_data"
    }
   ],
   "source": [
    "options(repr.plot.width = 12) # šířka grafů v Jupyteru\n",
    "par(mfrow = c(1, 2))          # matice grafů 1x2\n",
    "\n",
    "boxplot(data$data)\n",
    "hist(data$data)"
   ]
  },
  {
   "cell_type": "code",
   "execution_count": 74,
   "metadata": {},
   "outputs": [
    {
     "data": {
      "text/html": [
       "-0.328681869783078"
      ],
      "text/latex": [
       "-0.328681869783078"
      ],
      "text/markdown": [
       "-0.328681869783078"
      ],
      "text/plain": [
       "[1] -0.3286819"
      ]
     },
     "metadata": {},
     "output_type": "display_data"
    },
    {
     "data": {
      "text/html": [
       "-0.433790248631749"
      ],
      "text/latex": [
       "-0.433790248631749"
      ],
      "text/markdown": [
       "-0.433790248631749"
      ],
      "text/plain": [
       "[1] -0.4337902"
      ]
     },
     "metadata": {},
     "output_type": "display_data"
    },
    {
     "data": {
      "text/html": [
       "0.537411500830959"
      ],
      "text/latex": [
       "0.537411500830959"
      ],
      "text/markdown": [
       "0.537411500830959"
      ],
      "text/plain": [
       "[1] 0.5374115"
      ]
     },
     "metadata": {},
     "output_type": "display_data"
    }
   ],
   "source": [
    "moments::skewness(data$data)       # šikmost\n",
    "moments::kurtosis(data$data) - 3   # špičatost\n",
    "\n",
    "shapiro.test(data$data)$p.value    # test normality"
   ]
  },
  {
   "cell_type": "code",
   "execution_count": 75,
   "metadata": {},
   "outputs": [
    {
     "data": {
      "text/html": [
       "30"
      ],
      "text/latex": [
       "30"
      ],
      "text/markdown": [
       "30"
      ],
      "text/plain": [
       "[1] 30"
      ]
     },
     "metadata": {},
     "output_type": "display_data"
    },
    {
     "data": {
      "text/html": [
       "99.1833333333333"
      ],
      "text/latex": [
       "99.1833333333333"
      ],
      "text/markdown": [
       "99.1833333333333"
      ],
      "text/plain": [
       "[1] 99.18333"
      ]
     },
     "metadata": {},
     "output_type": "display_data"
    },
    {
     "data": {
      "text/html": [
       "11.3085556056049"
      ],
      "text/latex": [
       "11.3085556056049"
      ],
      "text/markdown": [
       "11.3085556056049"
      ],
      "text/plain": [
       "[1] 11.30856"
      ]
     },
     "metadata": {},
     "output_type": "display_data"
    }
   ],
   "source": [
    "length(data$data)\n",
    "mean(data$data)\n",
    "sd(data$data)"
   ]
  },
  {
   "cell_type": "code",
   "execution_count": 66,
   "metadata": {},
   "outputs": [
    {
     "data": {
      "text/html": [
       "<style>\n",
       ".list-inline {list-style: none; margin:0; padding: 0}\n",
       ".list-inline>li {display: inline-block}\n",
       ".list-inline>li:not(:last-child)::after {content: \"\\00b7\"; padding: 0 .5ex}\n",
       "</style>\n",
       "<ol class=list-inline><li>75.91</li><li>109</li><li>107.89</li><li>102.95</li><li>98.93</li><li>105.71</li><li>106.5</li><li>98.56</li><li>87.34</li><li>100.95</li><li>94.9</li><li>115.1</li><li>110.58</li><li>105.19</li><li>96.59</li><li>112.53</li><li>98.41</li><li>95.45</li><li>117.97</li><li>91.94</li><li>109.61</li><li>96.75</li><li>76.21</li><li>89.03</li><li>101.36</li><li>90.18</li><li>92.96</li><li>78.83</li><li>90.56</li><li>117.61</li></ol>\n"
      ],
      "text/latex": [
       "\\begin{enumerate*}\n",
       "\\item 75.91\n",
       "\\item 109\n",
       "\\item 107.89\n",
       "\\item 102.95\n",
       "\\item 98.93\n",
       "\\item 105.71\n",
       "\\item 106.5\n",
       "\\item 98.56\n",
       "\\item 87.34\n",
       "\\item 100.95\n",
       "\\item 94.9\n",
       "\\item 115.1\n",
       "\\item 110.58\n",
       "\\item 105.19\n",
       "\\item 96.59\n",
       "\\item 112.53\n",
       "\\item 98.41\n",
       "\\item 95.45\n",
       "\\item 117.97\n",
       "\\item 91.94\n",
       "\\item 109.61\n",
       "\\item 96.75\n",
       "\\item 76.21\n",
       "\\item 89.03\n",
       "\\item 101.36\n",
       "\\item 90.18\n",
       "\\item 92.96\n",
       "\\item 78.83\n",
       "\\item 90.56\n",
       "\\item 117.61\n",
       "\\end{enumerate*}\n"
      ],
      "text/markdown": [
       "1. 75.91\n",
       "2. 109\n",
       "3. 107.89\n",
       "4. 102.95\n",
       "5. 98.93\n",
       "6. 105.71\n",
       "7. 106.5\n",
       "8. 98.56\n",
       "9. 87.34\n",
       "10. 100.95\n",
       "11. 94.9\n",
       "12. 115.1\n",
       "13. 110.58\n",
       "14. 105.19\n",
       "15. 96.59\n",
       "16. 112.53\n",
       "17. 98.41\n",
       "18. 95.45\n",
       "19. 117.97\n",
       "20. 91.94\n",
       "21. 109.61\n",
       "22. 96.75\n",
       "23. 76.21\n",
       "24. 89.03\n",
       "25. 101.36\n",
       "26. 90.18\n",
       "27. 92.96\n",
       "28. 78.83\n",
       "29. 90.56\n",
       "30. 117.61\n",
       "\n",
       "\n"
      ],
      "text/plain": [
       " [1]  75.91 109.00 107.89 102.95  98.93 105.71 106.50  98.56  87.34 100.95\n",
       "[11]  94.90 115.10 110.58 105.19  96.59 112.53  98.41  95.45 117.97  91.94\n",
       "[21] 109.61  96.75  76.21  89.03 101.36  90.18  92.96  78.83  90.56 117.61"
      ]
     },
     "metadata": {},
     "output_type": "display_data"
    }
   ],
   "source": []
  },
  {
   "cell_type": "code",
   "execution_count": null,
   "metadata": {},
   "outputs": [],
   "source": []
  },
  {
   "cell_type": "code",
   "execution_count": null,
   "metadata": {},
   "outputs": [],
   "source": []
  },
  {
   "cell_type": "code",
   "execution_count": null,
   "metadata": {},
   "outputs": [],
   "source": []
  },
  {
   "cell_type": "markdown",
   "metadata": {},
   "source": [
    "# Příklady\n",
    "## Příklad 1.\n",
    "Máme výběr 216 pacientů a změřili jsme jejich bílkovinné sérum (soubor testy_jednovyberove.xlsx list bilk_serum). Ověřte, zda se průměrné bílkovinné sérum (Albumin) všech pacientů tohoto typu (populační průměr µ) statisticky významně liší od hodnoty 35 g/l."
   ]
  },
  {
   "cell_type": "code",
   "execution_count": 1,
   "metadata": {},
   "outputs": [
    {
     "data": {
      "text/html": [
       "<table class=\"dataframe\">\n",
       "<caption>A tibble: 6 × 1</caption>\n",
       "<thead>\n",
       "\t<tr><th scope=col>Bílkovinné sérum (g/l)</th></tr>\n",
       "\t<tr><th scope=col>&lt;dbl&gt;</th></tr>\n",
       "</thead>\n",
       "<tbody>\n",
       "\t<tr><td>33.874</td></tr>\n",
       "\t<tr><td>34.718</td></tr>\n",
       "\t<tr><td>34.957</td></tr>\n",
       "\t<tr><td>34.758</td></tr>\n",
       "\t<tr><td>35.280</td></tr>\n",
       "\t<tr><td>34.621</td></tr>\n",
       "</tbody>\n",
       "</table>\n"
      ],
      "text/latex": [
       "A tibble: 6 × 1\n",
       "\\begin{tabular}{l}\n",
       " Bílkovinné sérum (g/l)\\\\\n",
       " <dbl>\\\\\n",
       "\\hline\n",
       "\t 33.874\\\\\n",
       "\t 34.718\\\\\n",
       "\t 34.957\\\\\n",
       "\t 34.758\\\\\n",
       "\t 35.280\\\\\n",
       "\t 34.621\\\\\n",
       "\\end{tabular}\n"
      ],
      "text/markdown": [
       "\n",
       "A tibble: 6 × 1\n",
       "\n",
       "| Bílkovinné sérum (g/l) &lt;dbl&gt; |\n",
       "|---|\n",
       "| 33.874 |\n",
       "| 34.718 |\n",
       "| 34.957 |\n",
       "| 34.758 |\n",
       "| 35.280 |\n",
       "| 34.621 |\n",
       "\n"
      ],
      "text/plain": [
       "  Bílkovinné sérum (g/l)\n",
       "1 33.874                \n",
       "2 34.718                \n",
       "3 34.957                \n",
       "4 34.758                \n",
       "5 35.280                \n",
       "6 34.621                "
      ]
     },
     "metadata": {},
     "output_type": "display_data"
    }
   ],
   "source": [
    "# Načtení dat z xlsx souboru (pomoci balíčku readxl)\n",
    "albumin = readxl::read_excel(\"data/testy_jednovyberove.xlsx\",\n",
    "                             sheet = \"bilk_serum\")\n",
    "head(albumin)"
   ]
  },
  {
   "cell_type": "code",
   "execution_count": 3,
   "metadata": {},
   "outputs": [],
   "source": [
    "colnames(albumin)=\"hodnoty\""
   ]
  },
  {
   "cell_type": "code",
   "execution_count": 6,
   "metadata": {},
   "outputs": [
    {
     "data": {
      "text/plain": [
       "   Min. 1st Qu.  Median    Mean 3rd Qu.    Max. \n",
       "  33.57   34.20   34.51   34.49   34.74   35.48 "
      ]
     },
     "metadata": {},
     "output_type": "display_data"
    },
    {
     "data": {
      "image/png": "[encoded data removed]",
      "text/plain": [
       "plot without title"
      ]
     },
     "metadata": {
      "image/png": {
       "height": 420,
       "width": 420
      }
     },
     "output_type": "display_data"
    }
   ],
   "source": [
    "# Explorační analýza\n",
    "boxplot(albumin$hodnoty)\n",
    "summary(albumin$hodnoty)"
   ]
  },
  {
   "cell_type": "code",
   "execution_count": 5,
   "metadata": {},
   "outputs": [
    {
     "data": {
      "text/html": [
       "218"
      ],
      "text/latex": [
       "218"
      ],
      "text/markdown": [
       "218"
      ],
      "text/plain": [
       "[1] 218"
      ]
     },
     "metadata": {},
     "output_type": "display_data"
    },
    {
     "data": {
      "text/html": [
       "0.393682994116148"
      ],
      "text/latex": [
       "0.393682994116148"
      ],
      "text/markdown": [
       "0.393682994116148"
      ],
      "text/plain": [
       "[1] 0.393683"
      ]
     },
     "metadata": {},
     "output_type": "display_data"
    }
   ],
   "source": [
    "length(albumin$hodnoty) # sd zaokrouhlujeme na 3 platné cifry\n",
    "sd(albumin$hodnoty)     # sd a míry polohy zaokrouhlujeme na tisíciny"
   ]
  },
  {
   "cell_type": "markdown",
   "metadata": {},
   "source": [
    "**Test na míru polohy**"
   ]
  },
  {
   "cell_type": "code",
   "execution_count": 22,
   "metadata": {},
   "outputs": [
    {
     "data": {
      "text/html": [
       "-0.0281600650055974"
      ],
      "text/latex": [
       "-0.0281600650055974"
      ],
      "text/markdown": [
       "-0.0281600650055974"
      ],
      "text/plain": [
       "[1] -0.02816007"
      ]
     },
     "metadata": {},
     "output_type": "display_data"
    },
    {
     "data": {
      "text/html": [
       "-0.572023254270734"
      ],
      "text/latex": [
       "-0.572023254270734"
      ],
      "text/markdown": [
       "-0.572023254270734"
      ],
      "text/plain": [
       "[1] -0.5720233"
      ]
     },
     "metadata": {},
     "output_type": "display_data"
    },
    {
     "data": {
      "image/png": "[encoded data removed]",
      "text/plain": [
       "Plot with title “Histogram of albumin$hodnoty”"
      ]
     },
     "metadata": {
      "image/png": {
       "height": 420,
       "width": 720
      }
     },
     "output_type": "display_data"
    }
   ],
   "source": [
    "# Ověření normality - exploračně\n",
    "moments::skewness(albumin$hodnoty)    # šikmost\n",
    "moments::kurtosis(albumin$hodnoty)-3  # špičatost\n",
    "\n",
    "options(repr.plot.width = 12) # šířka grafů v Jupyteru\n",
    "par(mfrow = c(1, 2))          # matice grafů 1x2\n",
    "\n",
    "qqnorm(albumin$hodnoty)\n",
    "qqline(albumin$hodnoty)\n",
    "hist(albumin$hodnoty)"
   ]
  },
  {
   "cell_type": "code",
   "execution_count": 12,
   "metadata": {},
   "outputs": [
    {
     "data": {
      "text/plain": [
       "\n",
       "\tShapiro-Wilk normality test\n",
       "\n",
       "data:  albumin$hodnoty\n",
       "W = 0.99151, p-value = 0.2358\n"
      ]
     },
     "metadata": {},
     "output_type": "display_data"
    }
   ],
   "source": [
    "# Pro konečné rozhodnutí o normalitě dat použijeme test normality.\n",
    "\n",
    "# Předpoklad normality ověříme Shapirovovým - Wilkovovým testem.\n",
    "# H0: Data jsou výběrem z normálního rozdělení.\n",
    "# Ha: Data nejsou výběrem z normálního rozdělení.\n",
    "shapiro.test(albumin$hodnoty)\n",
    "# p-value > 0.05 -> Na hl. významnosti 0,05 nelze předpoklad normality zamítnout "
   ]
  },
  {
   "cell_type": "code",
   "execution_count": 13,
   "metadata": {},
   "outputs": [
    {
     "data": {
      "text/plain": [
       "\n",
       "\tOne Sample t-test\n",
       "\n",
       "data:  albumin$hodnoty\n",
       "t = -19.249, df = 217, p-value < 0.00000000000000022\n",
       "alternative hypothesis: true mean is not equal to 35\n",
       "95 percent confidence interval:\n",
       " 34.43421 34.53932\n",
       "sample estimates:\n",
       "mean of x \n",
       " 34.48677 \n"
      ]
     },
     "metadata": {},
     "output_type": "display_data"
    }
   ],
   "source": [
    "# normalita OK -> t.test\n",
    "\n",
    "# H0: mu = 35 g/l\n",
    "# Ha: mu <> 35 g/l\n",
    "\n",
    "t.test(albumin$hodnoty, mu=35,\n",
    "       alternative = \"two.sided\", conf.level=0.95)\n",
    "\n",
    "# p-value < 0.05 -> Na hl. významnosti 0,05 zamítáme nulovou hypotézu \n",
    "# ve prospěch hypotézy alternativní \n",
    "# Střední hodnota albuminu se statisticky významně liší od 35 g/l."
   ]
  },
  {
   "cell_type": "markdown",
   "metadata": {},
   "source": [
    "## Příklad 2.\n",
    "V souboru testy_jednovyberove.xlsx list preziti jsou uvedeny doby přežití pro 100 pacientů s rakovinou plic léčených novým lékem. Z předchozích studií je známo, že průměrné přežití takových pacientů bez podávání nového léku je 22,2 měsíce. Lze na základě těchto dat usoudit, že nový lék prodlužuje přežití?"
   ]
  },
  {
   "cell_type": "code",
   "execution_count": 23,
   "metadata": {},
   "outputs": [
    {
     "data": {
      "text/html": [
       "<table class=\"dataframe\">\n",
       "<caption>A tibble: 6 × 1</caption>\n",
       "<thead>\n",
       "\t<tr><th scope=col>Doba přežití (měsíc)</th></tr>\n",
       "\t<tr><th scope=col>&lt;dbl&gt;</th></tr>\n",
       "</thead>\n",
       "<tbody>\n",
       "\t<tr><td>27</td></tr>\n",
       "\t<tr><td> 6</td></tr>\n",
       "\t<tr><td> 9</td></tr>\n",
       "\t<tr><td>62</td></tr>\n",
       "\t<tr><td>10</td></tr>\n",
       "\t<tr><td>10</td></tr>\n",
       "</tbody>\n",
       "</table>\n"
      ],
      "text/latex": [
       "A tibble: 6 × 1\n",
       "\\begin{tabular}{l}\n",
       " Doba přežití (měsíc)\\\\\n",
       " <dbl>\\\\\n",
       "\\hline\n",
       "\t 27\\\\\n",
       "\t  6\\\\\n",
       "\t  9\\\\\n",
       "\t 62\\\\\n",
       "\t 10\\\\\n",
       "\t 10\\\\\n",
       "\\end{tabular}\n"
      ],
      "text/markdown": [
       "\n",
       "A tibble: 6 × 1\n",
       "\n",
       "| Doba přežití (měsíc) &lt;dbl&gt; |\n",
       "|---|\n",
       "| 27 |\n",
       "|  6 |\n",
       "|  9 |\n",
       "| 62 |\n",
       "| 10 |\n",
       "| 10 |\n",
       "\n"
      ],
      "text/plain": [
       "  Doba přežití (měsíc)\n",
       "1 27                  \n",
       "2  6                  \n",
       "3  9                  \n",
       "4 62                  \n",
       "5 10                  \n",
       "6 10                  "
      ]
     },
     "metadata": {},
     "output_type": "display_data"
    }
   ],
   "source": [
    "# Načtení dat z xlsx souboru (pomoci balíčku readxl)\n",
    "preziti = readxl::read_excel(\"data/testy_jednovyberove.xlsx\",\n",
    "                             sheet = \"preziti\")   \n",
    "head(preziti)"
   ]
  },
  {
   "cell_type": "code",
   "execution_count": 24,
   "metadata": {},
   "outputs": [],
   "source": [
    "colnames(preziti)=\"hodnoty\""
   ]
  },
  {
   "cell_type": "code",
   "execution_count": 25,
   "metadata": {},
   "outputs": [
    {
     "data": {
      "image/png": "[encoded data removed]",
      "text/plain": [
       "Plot with title “Histogram of preziti$hodnoty”"
      ]
     },
     "metadata": {
      "image/png": {
       "height": 420,
       "width": 720
      }
     },
     "output_type": "display_data"
    }
   ],
   "source": [
    "## Explorační analýza\n",
    "par(mfrow = c(1, 2))          # matice grafů 1x2\n",
    "\n",
    "boxplot(preziti$hodnoty)\n",
    "hist(preziti$hodnoty)"
   ]
  },
  {
   "cell_type": "markdown",
   "metadata": {},
   "source": [
    "**Data obsahují OP -> můžeme je odstranit. Nebo si také všimnout, že se pravděpdobně jedná o exponenciální rozdělení a OP tam ve skutečnosti nejsou (rozdělení se tak prostě chová).**"
   ]
  },
  {
   "cell_type": "code",
   "execution_count": 28,
   "metadata": {},
   "outputs": [
    {
     "data": {
      "text/html": [
       "<style>\n",
       ".list-inline {list-style: none; margin:0; padding: 0}\n",
       ".list-inline>li {display: inline-block}\n",
       ".list-inline>li:not(:last-child)::after {content: \"\\00b7\"; padding: 0 .5ex}\n",
       "</style>\n",
       "<ol class=list-inline><li>177</li><li>125</li><li>85</li><li>94</li><li>117</li><li>97</li></ol>\n"
      ],
      "text/latex": [
       "\\begin{enumerate*}\n",
       "\\item 177\n",
       "\\item 125\n",
       "\\item 85\n",
       "\\item 94\n",
       "\\item 117\n",
       "\\item 97\n",
       "\\end{enumerate*}\n"
      ],
      "text/markdown": [
       "1. 177\n",
       "2. 125\n",
       "3. 85\n",
       "4. 94\n",
       "5. 117\n",
       "6. 97\n",
       "\n",
       "\n"
      ],
      "text/plain": [
       "[1] 177 125  85  94 117  97"
      ]
     },
     "metadata": {},
     "output_type": "display_data"
    }
   ],
   "source": [
    "# Data obsahují odlehlá pozorování. Pomoci f-ce boxplot je umíme vypsat.\n",
    "pom=boxplot(preziti$hodnoty, plot = FALSE)\n",
    "pom$out\n",
    "# rozhodli-li jsme se pro odstranění odlehlých hodnot, pak \n",
    "preziti$hodnoty.bez=preziti$hodnoty # doporučujeme nepřepisovat původní data\n",
    "preziti$hodnoty.bez[preziti$hodnoty %in% pom$out]=NA"
   ]
  },
  {
   "cell_type": "code",
   "execution_count": 29,
   "metadata": {},
   "outputs": [
    {
     "data": {
      "text/plain": [
       "   Min. 1st Qu.  Median    Mean 3rd Qu.    Max.    NA's \n",
       "   3.00   11.00   20.00   23.70   32.75   63.00       6 "
      ]
     },
     "metadata": {},
     "output_type": "display_data"
    },
    {
     "data": {
      "image/png": "[encoded data removed]",
      "text/plain": [
       "plot without title"
      ]
     },
     "metadata": {
      "image/png": {
       "height": 420,
       "width": 720
      }
     },
     "output_type": "display_data"
    }
   ],
   "source": [
    "## Explorační analýza pro data bez odlehlých pozorování\n",
    "boxplot(preziti$hodnoty.bez)\n",
    "summary(preziti$hodnoty.bez,na.rm=TRUE)"
   ]
  },
  {
   "cell_type": "code",
   "execution_count": 30,
   "metadata": {},
   "outputs": [
    {
     "data": {
      "text/html": [
       "94"
      ],
      "text/latex": [
       "94"
      ],
      "text/markdown": [
       "94"
      ],
      "text/plain": [
       "[1] 94"
      ]
     },
     "metadata": {},
     "output_type": "display_data"
    },
    {
     "data": {
      "text/html": [
       "15.3439629732825"
      ],
      "text/latex": [
       "15.3439629732825"
      ],
      "text/markdown": [
       "15.3439629732825"
      ],
      "text/plain": [
       "[1] 15.34396"
      ]
     },
     "metadata": {},
     "output_type": "display_data"
    }
   ],
   "source": [
    "length(na.omit(preziti$hodnoty.bez))   # sd zaokrouhlujeme na 3 platné cifry\n",
    "sd(preziti$hodnoty.bez,na.rm=TRUE)     # sd a míry polohy zaokrouhlujeme na desetiny"
   ]
  },
  {
   "cell_type": "markdown",
   "metadata": {},
   "source": [
    "**Test o míře polohy (střední hodnotě / mediánu)**"
   ]
  },
  {
   "cell_type": "code",
   "execution_count": 31,
   "metadata": {},
   "outputs": [
    {
     "data": {
      "text/html": [
       "0.833022679217481"
      ],
      "text/latex": [
       "0.833022679217481"
      ],
      "text/markdown": [
       "0.833022679217481"
      ],
      "text/plain": [
       "[1] 0.8330227"
      ]
     },
     "metadata": {},
     "output_type": "display_data"
    },
    {
     "data": {
      "text/html": [
       "-0.174802155213883"
      ],
      "text/latex": [
       "-0.174802155213883"
      ],
      "text/markdown": [
       "-0.174802155213883"
      ],
      "text/plain": [
       "[1] -0.1748022"
      ]
     },
     "metadata": {},
     "output_type": "display_data"
    },
    {
     "data": {
      "image/png": "[encoded data removed]",
      "text/plain": [
       "Plot with title “Histogram of preziti$hodnoty.bez”"
      ]
     },
     "metadata": {
      "image/png": {
       "height": 420,
       "width": 720
      }
     },
     "output_type": "display_data"
    }
   ],
   "source": [
    "# Ověření normality - exploračně\n",
    "moments::skewness(preziti$hodnoty.bez,na.rm=TRUE)\n",
    "moments::kurtosis(preziti$hodnoty.bez,na.rm=TRUE)-3\n",
    "\n",
    "par(mfrow = c(1, 2))          # matice grafů 1x2\n",
    "\n",
    "qqnorm(preziti$hodnoty.bez)\n",
    "qqline(preziti$hodnoty.bez)\n",
    "hist(preziti$hodnoty.bez)\n",
    "\n",
    "# QQ - graf i histogram ukazují, že výběr pravděpodobně není výběrem z normálního rozdělení.\n",
    "# Šikmost i špičatost odpovídá norm. rozdělení. Pro konečné rozhodnutí o normalitě dat použijeme\n",
    "# test normality."
   ]
  },
  {
   "cell_type": "code",
   "execution_count": 32,
   "metadata": {},
   "outputs": [
    {
     "data": {
      "text/plain": [
       "\n",
       "\tShapiro-Wilk normality test\n",
       "\n",
       "data:  preziti$hodnoty.bez\n",
       "W = 0.91835, p-value = 0.00002021\n"
      ]
     },
     "metadata": {},
     "output_type": "display_data"
    }
   ],
   "source": [
    "# Předpoklad normality ověříme Shapirovovým . Wilkovovým testem.\n",
    "shapiro.test(preziti$hodnoty.bez)\n",
    "# p-value < 0.05 -> Na hl. významnosti 0.05 zamítáme předpoklad normality "
   ]
  },
  {
   "cell_type": "code",
   "execution_count": 34,
   "metadata": {},
   "outputs": [
    {
     "data": {
      "text/plain": [
       "\n",
       "\tSymmetry test by Miao, Gel, and Gastwirth (2006)\n",
       "\n",
       "data:  preziti$hodnoty.bez\n",
       "Test statistic = 3.1256, p-value = 0.001774\n",
       "alternative hypothesis: the distribution is asymmetric.\n"
      ]
     },
     "metadata": {},
     "output_type": "display_data"
    }
   ],
   "source": [
    "# explorační posouzení symetrie - výše hist. a šikmost \n",
    "\n",
    "# Předpoklad symetrie - ověření testem\n",
    "# H0: data pocházejí ze symetrického rozdělení\n",
    "# HA: ~H0\n",
    "\n",
    "lawstat::symmetry.test(preziti$hodnoty.bez,boot=FALSE)\n",
    "# p-value < 0.05 -> Na hl. významnosti 0.05 zamítáme předpoklad symetrie "
   ]
  },
  {
   "cell_type": "code",
   "execution_count": 35,
   "metadata": {},
   "outputs": [
    {
     "data": {
      "text/plain": [
       "\n",
       "\tOne-sample Sign-Test\n",
       "\n",
       "data:  preziti$hodnoty.bez\n",
       "s = 40, p-value = 0.9393\n",
       "alternative hypothesis: true median is greater than 22.2\n",
       "95 percent confidence interval:\n",
       " 16.99182      Inf\n",
       "sample estimates:\n",
       "median of x \n",
       "         20 \n",
       "\n",
       "Achieved and Interpolated Confidence Intervals: \n",
       "\n",
       "                  Conf.Level  L.E.pt U.E.pt\n",
       "Lower Achieved CI     0.9393 18.0000    Inf\n",
       "Interpolated CI       0.9500 16.9918    Inf\n",
       "Upper Achieved CI     0.9605 16.0000    Inf\n"
      ]
     },
     "metadata": {},
     "output_type": "display_data"
    }
   ],
   "source": [
    "# normalita zamítnuta -> symetrie zamítnuta -> Sign. test\n",
    "# H0: median = 22,2 měsíců\n",
    "# Ha: median > 22,2 měsíců\n",
    "\n",
    "BSDA::SIGN.test(preziti$hodnoty.bez, md=22.2,\n",
    "                alternative=\"greater\", conf.level=0.95)\n",
    "\n",
    "# p-value > 0.05 -> Na hl. významnosti 0,05 nelze zamítnout nulovou hypotézu \n",
    "# Medián doby přežití není statisticky významně větší než 22,2 měsíců."
   ]
  },
  {
   "cell_type": "markdown",
   "metadata": {},
   "source": [
    "## Příklad 3.\n",
    "Automat vyrábí pístové kroužky o daném průměru. Výrobce udává, že směrodatná odchylka průměru kroužku je 0,05 mm. K ověření této informace bylo náhodně vybráno 80 kroužků a vypočtena směrodatná odchylka jejich průměru 0,04 mm. Lze tento rozdíl považovat za statisticky významný ve smyslu zlepšení kvality produkce? Ověřte čistým testem významnosti. Předpokládejte, že průměr pístových kroužků má normální rozdělení."
   ]
  },
  {
   "cell_type": "code",
   "execution_count": 36,
   "metadata": {},
   "outputs": [
    {
     "data": {
      "text/html": [
       "50.56"
      ],
      "text/latex": [
       "50.56"
      ],
      "text/markdown": [
       "50.56"
      ],
      "text/plain": [
       "[1] 50.56"
      ]
     },
     "metadata": {},
     "output_type": "display_data"
    }
   ],
   "source": [
    "# Test o směrodatné odchylce \n",
    "\n",
    "# Předpokládáme normalitu dat (dle zadání)\n",
    "n = 80   # rozsah souboru \n",
    "s = 0.04 # mm .... výběrová směrodatná odchylka (bodový odhad sm. odchylky)\n",
    "\n",
    "# H0: sigma = 0.05 mm\n",
    "# Ha: sigma < 0.05 mm\n",
    "\n",
    "x.obs = (n-1)*s^2/0.05^2\n",
    "x.obs"
   ]
  },
  {
   "cell_type": "code",
   "execution_count": 37,
   "metadata": {},
   "outputs": [
    {
     "data": {
      "text/html": [
       "0.00529401561448451"
      ],
      "text/latex": [
       "0.00529401561448451"
      ],
      "text/markdown": [
       "0.00529401561448451"
      ],
      "text/plain": [
       "[1] 0.005294016"
      ]
     },
     "metadata": {},
     "output_type": "display_data"
    }
   ],
   "source": [
    "p.hodnota = pchisq(x.obs,n-1)\n",
    "p.hodnota\n",
    "\n",
    "# p.hodnota < 0.05 -> Na hladině významnosti 0,05 zamítáme nulovou hypotézu \n",
    "# ve prospěch alternativní hypotézy\n",
    "# Směrodatná odchylka průměru kroužku je statisticky významně menší než 0,05 mm."
   ]
  },
  {
   "cell_type": "markdown",
   "metadata": {},
   "source": [
    "## Příklad 4.\n",
    "Automat vyrábí pístové kroužky o daném průměru. Výrobce udává, že směrodatná odchylka průměru kroužku je 0,05 mm. K ověření této informace bylo náhodně vybráno 80 kroužků a byl změřen jejich průměr (soubor testy_jednovyberove.xlsx list krouzky). Lze zjištěné výsledky považovat za statisticky významné ve smyslu zlepšení kvality produkce? Ověřte čistým testem významnosti."
   ]
  },
  {
   "cell_type": "code",
   "execution_count": 38,
   "metadata": {},
   "outputs": [
    {
     "data": {
      "text/html": [
       "<table class=\"dataframe\">\n",
       "<caption>A tibble: 6 × 1</caption>\n",
       "<thead>\n",
       "\t<tr><th scope=col>Průměr kroužku (mm)</th></tr>\n",
       "\t<tr><th scope=col>&lt;dbl&gt;</th></tr>\n",
       "</thead>\n",
       "<tbody>\n",
       "\t<tr><td>10.00</td></tr>\n",
       "\t<tr><td>10.03</td></tr>\n",
       "\t<tr><td> 9.96</td></tr>\n",
       "\t<tr><td>10.00</td></tr>\n",
       "\t<tr><td> 9.98</td></tr>\n",
       "\t<tr><td>10.02</td></tr>\n",
       "</tbody>\n",
       "</table>\n"
      ],
      "text/latex": [
       "A tibble: 6 × 1\n",
       "\\begin{tabular}{l}\n",
       " Průměr kroužku (mm)\\\\\n",
       " <dbl>\\\\\n",
       "\\hline\n",
       "\t 10.00\\\\\n",
       "\t 10.03\\\\\n",
       "\t  9.96\\\\\n",
       "\t 10.00\\\\\n",
       "\t  9.98\\\\\n",
       "\t 10.02\\\\\n",
       "\\end{tabular}\n"
      ],
      "text/markdown": [
       "\n",
       "A tibble: 6 × 1\n",
       "\n",
       "| Průměr kroužku (mm) &lt;dbl&gt; |\n",
       "|---|\n",
       "| 10.00 |\n",
       "| 10.03 |\n",
       "|  9.96 |\n",
       "| 10.00 |\n",
       "|  9.98 |\n",
       "| 10.02 |\n",
       "\n"
      ],
      "text/plain": [
       "  Průměr kroužku (mm)\n",
       "1 10.00              \n",
       "2 10.03              \n",
       "3  9.96              \n",
       "4 10.00              \n",
       "5  9.98              \n",
       "6 10.02              "
      ]
     },
     "metadata": {},
     "output_type": "display_data"
    }
   ],
   "source": [
    "# Načtení dat z xlsx souboru (pomoci balíčku readxl)\n",
    "krouzky = readxl::read_excel(\"data/testy_jednovyberove.xlsx\",\n",
    "                             sheet = \"krouzky\")  \n",
    "head(krouzky)"
   ]
  },
  {
   "cell_type": "code",
   "execution_count": 39,
   "metadata": {},
   "outputs": [],
   "source": [
    "colnames(krouzky)=\"hodnoty\""
   ]
  },
  {
   "cell_type": "code",
   "execution_count": 40,
   "metadata": {},
   "outputs": [
    {
     "data": {
      "image/png": "[encoded data removed]",
      "text/plain": [
       "plot without title"
      ]
     },
     "metadata": {
      "image/png": {
       "height": 420,
       "width": 720
      }
     },
     "output_type": "display_data"
    }
   ],
   "source": [
    "## Explorační analýza\n",
    "boxplot(krouzky$hodnoty)"
   ]
  },
  {
   "cell_type": "code",
   "execution_count": 42,
   "metadata": {},
   "outputs": [
    {
     "data": {
      "text/html": [
       "<style>\n",
       ".list-inline {list-style: none; margin:0; padding: 0}\n",
       ".list-inline>li {display: inline-block}\n",
       ".list-inline>li:not(:last-child)::after {content: \"\\00b7\"; padding: 0 .5ex}\n",
       "</style>\n",
       "<ol class=list-inline><li>9.94</li><li>9.94</li></ol>\n"
      ],
      "text/latex": [
       "\\begin{enumerate*}\n",
       "\\item 9.94\n",
       "\\item 9.94\n",
       "\\end{enumerate*}\n"
      ],
      "text/markdown": [
       "1. 9.94\n",
       "2. 9.94\n",
       "\n",
       "\n"
      ],
      "text/plain": [
       "[1] 9.94 9.94"
      ]
     },
     "metadata": {},
     "output_type": "display_data"
    }
   ],
   "source": [
    "# Data obsahují odlehlá pozorování. Pomoci f-ce boxplot je umíme vypsat.\n",
    "pom = boxplot(krouzky$hodnoty, plot = FALSE)\n",
    "pom$out\n",
    "# rozhodli-li jsme se pro odstranění odlehlých hodnot, pak \n",
    "krouzky$hodnoty.bez = krouzky$hodnoty\n",
    "krouzky$hodnoty.bez[krouzky$hodnoty %in% pom$out] = NA"
   ]
  },
  {
   "cell_type": "code",
   "execution_count": 43,
   "metadata": {},
   "outputs": [
    {
     "data": {
      "text/plain": [
       "   Min. 1st Qu.  Median    Mean 3rd Qu.    Max.    NA's \n",
       "   9.96    9.99   10.01   10.01   10.02   10.06       2 "
      ]
     },
     "metadata": {},
     "output_type": "display_data"
    },
    {
     "data": {
      "image/png": "[encoded data removed]",
      "text/plain": [
       "plot without title"
      ]
     },
     "metadata": {
      "image/png": {
       "height": 420,
       "width": 720
      }
     },
     "output_type": "display_data"
    }
   ],
   "source": [
    "# Explorační analýza pro data bez odlehlých pozorování\n",
    "summary(krouzky$hodnoty.bez,na.rm=TRUE)\n",
    "boxplot(krouzky$hodnoty.bez)"
   ]
  },
  {
   "cell_type": "code",
   "execution_count": 44,
   "metadata": {},
   "outputs": [
    {
     "data": {
      "text/html": [
       "78"
      ],
      "text/latex": [
       "78"
      ],
      "text/markdown": [
       "78"
      ],
      "text/plain": [
       "[1] 78"
      ]
     },
     "metadata": {},
     "output_type": "display_data"
    },
    {
     "data": {
      "text/html": [
       "0.0248461801356396"
      ],
      "text/latex": [
       "0.0248461801356396"
      ],
      "text/markdown": [
       "0.0248461801356396"
      ],
      "text/plain": [
       "[1] 0.02484618"
      ]
     },
     "metadata": {},
     "output_type": "display_data"
    }
   ],
   "source": [
    "length(na.omit(krouzky$hodnoty.bez))# sd zaokrouhlujeme na 3 platné cifry\n",
    "sd(krouzky$hodnoty.bez,na.rm=TRUE)  # sd a míry polohy zaokrouhlujeme na tisíciny"
   ]
  },
  {
   "cell_type": "code",
   "execution_count": 45,
   "metadata": {},
   "outputs": [
    {
     "data": {
      "text/html": [
       "0.0549279162578257"
      ],
      "text/latex": [
       "0.0549279162578257"
      ],
      "text/markdown": [
       "0.0549279162578257"
      ],
      "text/plain": [
       "[1] 0.05492792"
      ]
     },
     "metadata": {},
     "output_type": "display_data"
    },
    {
     "data": {
      "text/html": [
       "-0.396039943230522"
      ],
      "text/latex": [
       "-0.396039943230522"
      ],
      "text/markdown": [
       "-0.396039943230522"
      ],
      "text/plain": [
       "[1] -0.3960399"
      ]
     },
     "metadata": {},
     "output_type": "display_data"
    },
    {
     "data": {
      "image/png": "[encoded data removed]",
      "text/plain": [
       "Plot with title “Histogram of krouzky$hodnoty.bez”"
      ]
     },
     "metadata": {
      "image/png": {
       "height": 420,
       "width": 720
      }
     },
     "output_type": "display_data"
    }
   ],
   "source": [
    "# Ověření normality - exploračně\n",
    "moments::skewness(krouzky$hodnoty.bez,na.rm=TRUE)\n",
    "moments::kurtosis(krouzky$hodnoty.bez,na.rm=TRUE)-3\n",
    "\n",
    "par(mfrow = c(1, 2))          # matice grafů 1x2\n",
    "\n",
    "qqnorm(krouzky$hodnoty.bez)\n",
    "qqline(krouzky$hodnoty.bez)\n",
    "hist(krouzky$hodnoty.bez)\n",
    "# Šikmost i špičatost odpovídá norm. rozdělení. Pro konečné rozhodnutí o normalitě dat použijeme"
   ]
  },
  {
   "cell_type": "code",
   "execution_count": 46,
   "metadata": {},
   "outputs": [
    {
     "data": {
      "text/plain": [
       "\n",
       "\tShapiro-Wilk normality test\n",
       "\n",
       "data:  krouzky$hodnoty.bez\n",
       "W = 0.97005, p-value = 0.0628\n"
      ]
     },
     "metadata": {},
     "output_type": "display_data"
    }
   ],
   "source": [
    "# test normality.\n",
    "# Předpoklad normality ověříme Shapirovovým . Wilkovovým testem.\n",
    "shapiro.test(krouzky$hodnoty.bez)\n",
    "# p-value > 0.05 -> Na hl. významnosti 0,05 nelze předpoklad normality zamítnout "
   ]
  },
  {
   "cell_type": "code",
   "execution_count": 50,
   "metadata": {},
   "outputs": [
    {
     "name": "stderr",
     "output_type": "stream",
     "text": [
      "Warning message in is.not.finite.warning(x):\n",
      "“There were 2 nonfinite values in x : 2 NA's”\n",
      "Warning message in EnvStats::varTest(krouzky$hodnoty.bez, sigma.squared = 0.05^2, :\n",
      "“2 observations with NA/NaN/Inf in 'x' removed.”\n"
     ]
    },
    {
     "data": {
      "text/plain": [
       "\n",
       "\tChi-Squared Test on Variance\n",
       "\n",
       "data:  krouzky$hodnoty.bez\n",
       "Chi-Squared = 19.014, df = 77, p-value = 0.000000000001354\n",
       "alternative hypothesis: true variance is less than 0.0025\n",
       "95 percent confidence interval:\n",
       " 0.0000000000 0.0008225911\n",
       "sample estimates:\n",
       "    variance \n",
       "0.0006173327 \n"
      ]
     },
     "metadata": {},
     "output_type": "display_data"
    }
   ],
   "source": [
    "# test na míru variability -> test o rozptylu\n",
    "\n",
    "# H0: sigma = 0,05 mm\n",
    "# Ha: sigma < 0,05 mm\n",
    "EnvStats::varTest(krouzky$hodnoty.bez,sigma.squared = 0.05^2,\n",
    "                  alternative = \"less\")\n",
    "\n",
    "# p-value < 0.05 -> Na hladině významnosti 0,05 zamítáme H0 ve prospěch Ha "
   ]
  },
  {
   "cell_type": "code",
   "execution_count": 52,
   "metadata": {},
   "outputs": [
    {
     "name": "stderr",
     "output_type": "stream",
     "text": [
      "Warning message in is.not.finite.warning(x):\n",
      "“There were 2 nonfinite values in x : 2 NA's”\n",
      "Warning message in EnvStats::varTest(krouzky$hodnoty.bez, sigma.squared = 0.05^2, :\n",
      "“2 observations with NA/NaN/Inf in 'x' removed.”\n"
     ]
    },
    {
     "data": {
      "text/html": [
       "<style>\n",
       ".dl-inline {width: auto; margin:0; padding: 0}\n",
       ".dl-inline>dt, .dl-inline>dd {float: none; width: auto; display: inline-block}\n",
       ".dl-inline>dt::after {content: \":\\0020\"; padding-right: .5ex}\n",
       ".dl-inline>dt:not(:first-of-type) {padding-left: .5ex}\n",
       "</style><dl class=dl-inline><dt>LCL</dt><dd>0</dd><dt>UCL</dt><dd>0.0286808486207514</dd></dl>\n"
      ],
      "text/latex": [
       "\\begin{description*}\n",
       "\\item[LCL] 0\n",
       "\\item[UCL] 0.0286808486207514\n",
       "\\end{description*}\n"
      ],
      "text/markdown": [
       "LCL\n",
       ":   0UCL\n",
       ":   0.0286808486207514\n",
       "\n"
      ],
      "text/plain": [
       "       LCL        UCL \n",
       "0.00000000 0.02868085 \n",
       "attr(,\"conf.level\")\n",
       "[1] 0.95"
      ]
     },
     "metadata": {},
     "output_type": "display_data"
    }
   ],
   "source": [
    "# Jak najít 95% intervalový odhad směrodatné odchylky?\n",
    "pom = EnvStats::varTest(krouzky$hodnoty.bez,sigma.squared = 0.05^2,\n",
    "                        alternative = \"less\", conf.level=0.95)\n",
    "\n",
    "sqrt(pom$conf.int)"
   ]
  },
  {
   "cell_type": "markdown",
   "metadata": {},
   "source": [
    "## Příklad 5.\n",
    "Firma TT udává, že 1% jejich rezistorů nesplňuje požadovaná kritéria. V testované dodávce 1000 ks bylo nalezeno 15 nevyhovujících rezistorů. Potvrzuje tento výsledek tvrzení TT? Ověřte čistým testem významnosti."
   ]
  },
  {
   "cell_type": "code",
   "execution_count": 56,
   "metadata": {},
   "outputs": [
    {
     "data": {
      "text/html": [
       "0.015"
      ],
      "text/latex": [
       "0.015"
      ],
      "text/markdown": [
       "0.015"
      ],
      "text/plain": [
       "[1] 0.015"
      ]
     },
     "metadata": {},
     "output_type": "display_data"
    }
   ],
   "source": [
    "n = 1000   # rozsah výběru \n",
    "x = 15     # počet \"úspěchů\"\n",
    "p = x/n    # relativní četnost (bodový odhad pravděpodobnosti)\n",
    "p "
   ]
  },
  {
   "cell_type": "code",
   "execution_count": 59,
   "metadata": {},
   "outputs": [
    {
     "data": {
      "text/html": [
       "609.137055837563"
      ],
      "text/latex": [
       "609.137055837563"
      ],
      "text/markdown": [
       "609.137055837563"
      ],
      "text/plain": [
       "[1] 609.1371"
      ]
     },
     "metadata": {},
     "output_type": "display_data"
    }
   ],
   "source": [
    "# Ověření předpokladů\n",
    "9/(p*(1-p))\n",
    "# Dále předpokládáme  n/N < 0.05, tj. že daná populace (rezistorů) má rozsah \n",
    "# alespoň 1000/0.05 = 1000*20 = 20 000 rezistorů, což je asi vcelku reálný předpoklad :-)"
   ]
  },
  {
   "cell_type": "code",
   "execution_count": 60,
   "metadata": {},
   "outputs": [
    {
     "data": {
      "text/plain": [
       "\n",
       "\tExact binomial test\n",
       "\n",
       "data:  x and n\n",
       "number of successes = 15, number of trials = 1000, p-value = 0.08241\n",
       "alternative hypothesis: true probability of success is greater than 0.01\n",
       "95 percent confidence interval:\n",
       " 0.009268431 1.000000000\n",
       "sample estimates:\n",
       "probability of success \n",
       "                 0.015 \n"
      ]
     },
     "metadata": {},
     "output_type": "display_data"
    }
   ],
   "source": [
    "## Clopperův - Pearsonův (exaktní) test\n",
    "## H0: pi = 0.01\n",
    "## Ha: pi > 0.01\n",
    "\n",
    "binom.test(x,n,0.01,alternative=\"greater\",conf.level=0.95)\n",
    "\n",
    "# Na hladině významnosti 0,05 nezamítáme H0 \n",
    "# Nelze očekávat, že podíl vadných rezistorů ve výrobě statisticky významně\n",
    "# převyšuje 1 %."
   ]
  },
  {
   "cell_type": "code",
   "execution_count": null,
   "metadata": {},
   "outputs": [],
   "source": []
  }
 ],
 "metadata": {
  "kernelspec": {
   "display_name": "R",
   "language": "R",
   "name": "ir"
  },
  "language_info": {
   "codemirror_mode": "r",
   "file_extension": ".r",
   "mimetype": "text/x-r-source",
   "name": "R",
   "pygments_lexer": "r",
   "version": "4.0.4"
  }
 },
 "nbformat": 4,
 "nbformat_minor": 4
}
