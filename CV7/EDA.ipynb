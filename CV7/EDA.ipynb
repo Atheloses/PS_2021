{
 "cells": [
  {
   "cell_type": "markdown",
   "metadata": {},
   "source": [
    "\n",
    " # Preprocesing dat a explorační analýza \n",
    " \n",
    " ## Základní skript\n",
    " \n",
    " \n",
    "**Adéla Vrtková, Martina Litschmannová**\n",
    "\n",
    "\n",
    "  Máme data, a co dál?\n",
    "   1. Spustíme potřebné balíčky, které obsahují další statistické funkce\n",
    "   2. Nastavíme pracovní adresář, odkud importujeme data, popř. kam chceme ukládat výstupy\n",
    "   3. Importujeme data (z pracovního adresáře, z internetu)\n",
    "   4. Pre-processing ->  \n",
    "    1. Podíváme se na data\n",
    "    2. uložíme si data ve více formátech (každá funkce má \"raději\" jiný formát)\n",
    "   5. Analýza kvalitativních proměnných\n",
    "   6. Analýza kvantitativních proměnných\n",
    "   7. Identifikace a rozhodnutí o vyloučení/ponechání odlehlých pozorování\n",
    "\n",
    "\n",
    " ## 1. Jak nainstalovat a spustit rozšiřující balíček funkcí? "
   ]
  },
  {
   "cell_type": "code",
   "execution_count": null,
   "metadata": {
    "scrolled": false
   },
   "outputs": [],
   "source": [
    "# Instalování balíčků nutné pouze jednou (pokud je již nemáte)\n",
    "# install.packages(\"readxl\")\n",
    "# install.packages(\"dplyr\")\n",
    "# install.packages(\"openxlsx\")"
   ]
  },
  {
   "cell_type": "code",
   "execution_count": null,
   "metadata": {
    "scrolled": false
   },
   "outputs": [],
   "source": [
    "# Načtení balíčku (nutno opakovat při každém novém spuštění Rka, vhodné mít na začátku skriptu)\n",
    "library(readxl)\n",
    "library(dplyr)\n",
    "library(openxlsx)\n",
    "# obsahuje upozornění na přepsané funkce případně na starší verzi balíčku"
   ]
  },
  {
   "cell_type": "markdown",
   "metadata": {},
   "source": [
    "## 2. Kde se ukládají generované výstupy, nastavení pracovního adresáře"
   ]
  },
  {
   "cell_type": "code",
   "execution_count": null,
   "metadata": {
    "scrolled": false
   },
   "outputs": [],
   "source": [
    "# Výpis pracovního adresáře\n",
    "getwd()"
   ]
  },
  {
   "cell_type": "code",
   "execution_count": null,
   "metadata": {
    "scrolled": false
   },
   "outputs": [],
   "source": [
    "# Nastavení pracovního adresáře -> do uvozovek, celou cestu (relativní nebo absolutní)\n",
    "setwd(\"./data\")"
   ]
  },
  {
   "cell_type": "code",
   "execution_count": null,
   "metadata": {
    "scrolled": false
   },
   "outputs": [],
   "source": [
    "getwd() # kde jsme teď"
   ]
  },
  {
   "cell_type": "code",
   "execution_count": null,
   "metadata": {
    "scrolled": false
   },
   "outputs": [],
   "source": [
    "setwd(\"./..\") # zase zpátky"
   ]
  },
  {
   "cell_type": "code",
   "execution_count": null,
   "metadata": {
    "scrolled": false
   },
   "outputs": [],
   "source": [
    "getwd() # kontrola"
   ]
  },
  {
   "cell_type": "markdown",
   "metadata": {},
   "source": [
    "## 3. Načtení datového souboru"
   ]
  },
  {
   "cell_type": "markdown",
   "metadata": {},
   "source": [
    "Základní funkce - read.table, read.csv, read.csv2, ...\n",
    "\n",
    "Záleží hlavně na formátu souboru (.txt, .csv), na tzv. oddělovači jednotlivých hodnot, desetinné čárce/tečce"
   ]
  },
  {
   "cell_type": "code",
   "execution_count": null,
   "metadata": {
    "scrolled": false
   },
   "outputs": [],
   "source": [
    "# Načtení a uložení datového souboru ve formátu csv2 z pracovního adresáře\n",
    "data = read.csv2(file=\"aku.csv\")"
   ]
  },
  {
   "cell_type": "code",
   "execution_count": null,
   "metadata": {
    "scrolled": false
   },
   "outputs": [],
   "source": [
    "# Načtení a uložení datového souboru ve formátu csv2 z lokálního disku do datového rámce data\n",
    "data = read.csv2(file=\"./data/aku.csv\")"
   ]
  },
  {
   "cell_type": "code",
   "execution_count": null,
   "metadata": {
    "scrolled": false
   },
   "outputs": [],
   "source": [
    "# Načtení a uložení datového souboru ve formátu csv2 z internetu do datového rámce data\n",
    "data = read.csv2(file=\"http://am-nas.vsb.cz/lit40/DATA/aku.csv\")"
   ]
  },
  {
   "cell_type": "markdown",
   "metadata": {},
   "source": [
    "Načtení a uložení datového souboru ve formátu xlsx z lokálního disku do datového rámce data\n",
    "\n",
    "Používáme funkci z balíčku readxl, který jsme v úvodu rozbalili"
   ]
  },
  {
   "cell_type": "code",
   "execution_count": null,
   "metadata": {
    "scrolled": false
   },
   "outputs": [],
   "source": [
    "data = read_excel(\"./data/aku.xlsx\", \n",
    "                  sheet = \"Data\",           # specifikace listu v xlsx souboru\n",
    "                  skip = 3)                 # řádky, které se přeskočí"
   ]
  },
  {
   "cell_type": "code",
   "execution_count": null,
   "metadata": {
    "scrolled": true
   },
   "outputs": [],
   "source": [
    "head(data)"
   ]
  },
  {
   "cell_type": "code",
   "execution_count": null,
   "metadata": {
    "scrolled": true
   },
   "outputs": [],
   "source": [
    "data = data[,-1] # odstraníme první sloupec s indexy\n",
    "head(data)"
   ]
  },
  {
   "cell_type": "code",
   "execution_count": null,
   "metadata": {
    "scrolled": false
   },
   "outputs": [],
   "source": [
    "# Přejmenování sloupců - je-li nutné\n",
    "colnames(data)=c(\"A5\",\"B5\",\"C5\",\"D5\",\"A100\",\"B100\",\"C100\",\"D100\") "
   ]
  },
  {
   "cell_type": "markdown",
   "metadata": {},
   "source": [
    "#### Poznámka (kterou je dobré dočíst až do konce....)\n",
    "Vždy je možné importovat pomocí \"Import Dataset\" z okna Environment bez nutnosti psát kód\n",
    "\n",
    "V tom případě ale nesmí být v \"cestě\" k souboru žádné speciální znaky (háčky, čárky). Jinak se objeví error.\n",
    "\n",
    "Objekt importovaný touto cestou bude v novém RStudiu jako typ \"tibble\".\n",
    "\n",
    "Jedná se o modernější \"data.frame\" a v některých funkcích může dělat problémy a házet errory!\n",
    "Jednoduše lze tento objekt převést na typ data.frame pomocí **as.data.frame()**\n",
    "\n",
    "Pokud budete mít problém, s tím, že nějaká funkce nebude brát sloupec z \"tibble\" jakožto non-numeric output, můžete to napravit příkazem pull: data[,1] nahradit pull(data,1)\n",
    "\n",
    "## 4. Pre-processing dat"
   ]
  },
  {
   "cell_type": "code",
   "execution_count": null,
   "metadata": {
    "scrolled": true
   },
   "outputs": [],
   "source": [
    "# Výpis datového souboru\n",
    "data"
   ]
  },
  {
   "cell_type": "code",
   "execution_count": null,
   "metadata": {
    "scrolled": false
   },
   "outputs": [],
   "source": [
    "# Zobrazení prvních šesti řádků\n",
    "head(data)"
   ]
  },
  {
   "cell_type": "code",
   "execution_count": null,
   "metadata": {
    "scrolled": false
   },
   "outputs": [],
   "source": [
    "# Zobrazení posledních šesti řádků\n",
    "tail(data)"
   ]
  },
  {
   "cell_type": "code",
   "execution_count": null,
   "metadata": {
    "scrolled": false
   },
   "outputs": [],
   "source": [
    "# Zobrazení 10. řádku\n",
    "data[10,]"
   ]
  },
  {
   "cell_type": "code",
   "execution_count": null,
   "metadata": {
    "scrolled": false
   },
   "outputs": [],
   "source": [
    "# Zobrazení 3. sloupce - několik způsobů\n",
    "data[,3]"
   ]
  },
  {
   "cell_type": "code",
   "execution_count": null,
   "metadata": {
    "scrolled": false
   },
   "outputs": [],
   "source": [
    "# nebo (víme-li, jak se jmenuje proměnná zapsána ve 3. sloupci)\n",
    "data$C5"
   ]
  },
  {
   "cell_type": "code",
   "execution_count": null,
   "metadata": {
    "scrolled": true
   },
   "outputs": [],
   "source": [
    "# nebo pomocí funkce select balíčku dplyr, která vybere zvolené sloupce\n",
    "data %>% select(C5)"
   ]
  },
  {
   "cell_type": "markdown",
   "metadata": {},
   "source": [
    "<hr>"
   ]
  },
  {
   "cell_type": "code",
   "execution_count": null,
   "metadata": {
    "scrolled": false
   },
   "outputs": [],
   "source": [
    "# Uložení prvního a pátého sloupce dat. rámce data do dat. rámce pokus\n",
    "pokus = data[,c(1,5)]"
   ]
  },
  {
   "cell_type": "code",
   "execution_count": null,
   "metadata": {
    "scrolled": false
   },
   "outputs": [],
   "source": [
    "# nebo pomocí funkce z dplyr\n",
    "pokus = data %>% select(1,5)"
   ]
  },
  {
   "cell_type": "code",
   "execution_count": null,
   "metadata": {
    "scrolled": false
   },
   "outputs": [],
   "source": [
    "# nebo pomocí názvů\n",
    "pokus = data %>% select(A5,A100)"
   ]
  },
  {
   "cell_type": "markdown",
   "metadata": {},
   "source": [
    "<hr>"
   ]
  },
  {
   "cell_type": "code",
   "execution_count": null,
   "metadata": {
    "scrolled": false
   },
   "outputs": [],
   "source": [
    "# Vyloučení prvního a pátého sloupce z dat. rámce data a uložení do dat. rámce pokus\n",
    "pokus = data[,-c(1,5)]"
   ]
  },
  {
   "cell_type": "code",
   "execution_count": null,
   "metadata": {
    "scrolled": false
   },
   "outputs": [],
   "source": [
    "# nebo pomocí dplyr\n",
    "pokus = data %>% select(-1, -5)"
   ]
  },
  {
   "cell_type": "code",
   "execution_count": null,
   "metadata": {
    "scrolled": false
   },
   "outputs": [],
   "source": [
    "# nebo pomocí názvů\n",
    "pokus = data %>% select(-A5,-A100)"
   ]
  },
  {
   "cell_type": "markdown",
   "metadata": {},
   "source": [
    "<hr>\n",
    "Úprava dat do několika menších logických celků s různou strukturou\n",
    "\n",
    "Pozn. při ukládání dat mysleme na přehlednost v názvech"
   ]
  },
  {
   "cell_type": "code",
   "execution_count": null,
   "metadata": {
    "scrolled": false
   },
   "outputs": [],
   "source": [
    "data5 = data[,1:4] # z dat vybereme ty sloupce, které odpovídají měřením po 5 cyklech\n",
    "colnames(data5) = c(\"A\",\"B\",\"C\",\"D\") # přejmenujeme sloupce\n",
    "data5S = stack(data5)         # a převedeme do st. datového formátu \n",
    "colnames(data5S) = c(\"kap5\",\"vyrobce\") # a ještě jednou upravíme názvy sloupců"
   ]
  },
  {
   "cell_type": "markdown",
   "metadata": {},
   "source": [
    "Prozkoumejte strukturu data5 a data5S"
   ]
  },
  {
   "cell_type": "code",
   "execution_count": null,
   "metadata": {
    "scrolled": false
   },
   "outputs": [],
   "source": []
  },
  {
   "cell_type": "markdown",
   "metadata": {},
   "source": [
    "<hr>"
   ]
  },
  {
   "cell_type": "code",
   "execution_count": null,
   "metadata": {
    "scrolled": false
   },
   "outputs": [],
   "source": [
    "# Totéž provedeme pro měření provedené po 100 cyklech\n",
    "data100 = data[,5:8] # z dat vybereme ty sloupce, které odpovídají měřením po 100 cyklech\n",
    "colnames(data100) = c(\"A\",\"B\",\"C\",\"D\") # přejmenujeme sloupce\n",
    "data100S = stack(data100)         # a převedeme do st. datového formátu \n",
    "colnames(data100S) = c(\"kap100\",\"vyrobce\") # a ještě jednou upravíme názvy sloupců"
   ]
  },
  {
   "cell_type": "markdown",
   "metadata": {},
   "source": [
    "<hr>"
   ]
  },
  {
   "cell_type": "code",
   "execution_count": null,
   "metadata": {
    "scrolled": false
   },
   "outputs": [],
   "source": [
    "# Nakonec si ještě vytvoříme datový soubor ve st. datovém formátu se všemi údaji\n",
    "dataS = cbind(data5S,data100S) # sloučení \"podle sloupců\"\n",
    "dataS = dataS[,-2] # vynecháme nadbytečný druhý sloupec\n",
    "dataS = na.omit(dataS) # vynecháme řádky s NA hodnotami"
   ]
  },
  {
   "cell_type": "markdown",
   "metadata": {},
   "source": [
    "**!!! S funkci na.omit zacházejte extrémně opatrně, aby jste nechtěně nepřišli o data !!!**"
   ]
  },
  {
   "cell_type": "markdown",
   "metadata": {},
   "source": [
    "<hr>"
   ]
  },
  {
   "cell_type": "code",
   "execution_count": null,
   "metadata": {
    "scrolled": false
   },
   "outputs": [],
   "source": [
    "# Definování nové proměnné pokles\n",
    "dataS$pokles=dataS$kap5-dataS$kap100"
   ]
  },
  {
   "cell_type": "code",
   "execution_count": null,
   "metadata": {
    "scrolled": false
   },
   "outputs": [],
   "source": [
    "# nebo pomocí funkce z balíčku dplyr\n",
    "dataS = dataS %>% mutate(pokles=kap5-kap100)"
   ]
  },
  {
   "cell_type": "markdown",
   "metadata": {},
   "source": [
    "<hr>"
   ]
  },
  {
   "cell_type": "code",
   "execution_count": null,
   "metadata": {
    "scrolled": false
   },
   "outputs": [],
   "source": [
    "# Může se hodit - vytvoření samostatných proměnných\n",
    "a5 = dataS$kap5[dataS$vyrobce==\"A\"] # Třída (typ) numeric\n",
    "a5"
   ]
  },
  {
   "cell_type": "code",
   "execution_count": null,
   "metadata": {
    "scrolled": false
   },
   "outputs": [],
   "source": [
    "# takto s výsledkem typu data frame\n",
    "a5.df = dataS %>%\n",
    "  filter(vyrobce==\"A\") %>%  # Vybere / vyfiltruje řádky odpovídající výrobci A\n",
    "  select(kap5)   # Vybere pouze hodnoty ve sloupci kap5, POZOR! - Třída (typ) data.frame\n",
    "head(a5.df)"
   ]
  },
  {
   "cell_type": "code",
   "execution_count": null,
   "metadata": {
    "scrolled": false
   },
   "outputs": [],
   "source": [
    "# Ostatní samostatné proměnné (uveden pouze jeden způsob)\n",
    "b5=dataS$kap5[dataS$vyrobce==\"B\"]\n",
    "c5=dataS$kap5[dataS$vyrobce==\"C\"]\n",
    "d5=dataS$kap5[dataS$vyrobce==\"D\"]\n",
    "\n",
    "a100=dataS$kap100[dataS$vyrobce==\"A\"]\n",
    "b100=dataS$kap100[dataS$vyrobce==\"B\"]\n",
    "c100=dataS$kap100[dataS$vyrobce==\"C\"]\n",
    "d100=dataS$kap100[dataS$vyrobce==\"D\"]\n",
    "\n",
    "pokles.a=dataS$pokles[dataS$vyrobce==\"A\"]\n",
    "pokles.b=dataS$pokles[dataS$vyrobce==\"B\"]\n",
    "pokles.c=dataS$pokles[dataS$vyrobce==\"C\"]\n",
    "pokles.d=dataS$pokles[dataS$vyrobce==\"D\"]"
   ]
  },
  {
   "cell_type": "markdown",
   "metadata": {},
   "source": [
    "### Podrobnější okénko do funkcí knihovny dplyr"
   ]
  },
  {
   "cell_type": "markdown",
   "metadata": {},
   "source": [
    "Je nutné aplikovat na data ve st. datovém formátu !!!\n",
    "\n",
    "Operátor pipe %>% - pomáhá při řetězení funkcí - v novém RStudiu klávesová zkratka Ctrl+Shift+M\n",
    "<hr>"
   ]
  },
  {
   "cell_type": "code",
   "execution_count": null,
   "metadata": {
    "scrolled": false
   },
   "outputs": [],
   "source": [
    "# filter - vybere / vyfiltruje řádky na základě daných podmínek\n",
    "# Výběr výrobků od výrobce A\n",
    "dataS %>% \n",
    "  filter(vyrobce==\"A\")"
   ]
  },
  {
   "cell_type": "code",
   "execution_count": null,
   "metadata": {
    "scrolled": false
   },
   "outputs": [],
   "source": [
    "# Výběr výrobků od výrobce A nebo B\n",
    "dataS %>% \n",
    "  filter(vyrobce==\"A\" | vyrobce==\"B\")  # | oddělující podmínky odpovídá logickému \"nebo\""
   ]
  },
  {
   "cell_type": "code",
   "execution_count": null,
   "metadata": {
    "scrolled": false
   },
   "outputs": [],
   "source": [
    "# Výběr všech výrobků s poklesem o 200 mAh a větším od výrobce C\n",
    "dataS %>% \n",
    "  filter(pokles>=200, vyrobce==\"C\")  # čárka oddělující podmínky odpovídá logickému \"a zároveň\""
   ]
  },
  {
   "cell_type": "markdown",
   "metadata": {},
   "source": [
    "<hr>"
   ]
  },
  {
   "cell_type": "code",
   "execution_count": null,
   "metadata": {
    "scrolled": false
   },
   "outputs": [],
   "source": [
    "# select - vybere sloupce podle jejich názvu nebo čísla\n",
    "# Výběr sloupce s údaji o výrobci podle názvu sloupce\n",
    "dataS %>% \n",
    "  select(vyrobce)"
   ]
  },
  {
   "cell_type": "code",
   "execution_count": null,
   "metadata": {
    "scrolled": false
   },
   "outputs": [],
   "source": [
    "# Výběr sloupce s údaji o výrobci podle čísla sloupce\n",
    "dataS %>% \n",
    "  select(3)"
   ]
  },
  {
   "cell_type": "markdown",
   "metadata": {},
   "source": [
    "Co je bezpečnější/lepší?"
   ]
  },
  {
   "cell_type": "markdown",
   "metadata": {},
   "source": [
    "<hr>"
   ]
  },
  {
   "cell_type": "code",
   "execution_count": null,
   "metadata": {
    "scrolled": false
   },
   "outputs": [],
   "source": [
    "# mutate - přidá novou proměnnou nebo transformuje existující\n",
    "# Vytvoření nového sloupce pokles_Ah, který údává pokles kapacit v Ah (původní data v mAh, 1 Ah = 1000 mAh)\n",
    "dataS %>% \n",
    "  mutate(pokles_Ah=pokles/1000)"
   ]
  },
  {
   "cell_type": "markdown",
   "metadata": {},
   "source": [
    "<hr>\n",
    "\n",
    "#### summarise - generuje souhrnné charakteristiky různých proměnných"
   ]
  },
  {
   "cell_type": "code",
   "execution_count": null,
   "metadata": {
    "scrolled": false
   },
   "outputs": [],
   "source": [
    "# Výpočet průměru a mediánu všech hodnot proměnné kap5\n",
    "dataS %>% \n",
    "  summarise(prum=mean(kap5),median=median(kap5))"
   ]
  },
  {
   "cell_type": "markdown",
   "metadata": {},
   "source": [
    "<hr>\n",
    "\n",
    "#### arrange - seřadí řádky podle zvolené proměnné"
   ]
  },
  {
   "cell_type": "code",
   "execution_count": null,
   "metadata": {
    "scrolled": true
   },
   "outputs": [],
   "source": [
    "# Vzestupné a sestupné seřazení řádků podle hodnoty poklesu\n",
    "dataS %>%\n",
    "  arrange(pokles)"
   ]
  },
  {
   "cell_type": "code",
   "execution_count": null,
   "metadata": {
    "scrolled": false
   },
   "outputs": [],
   "source": [
    "dataS %>%\n",
    "  arrange(desc(pokles))"
   ]
  },
  {
   "cell_type": "markdown",
   "metadata": {},
   "source": [
    "<hr>\n",
    "\n",
    "#### group_by - seskupí hodnoty do skupin podle zvolené proměnné - samotné v podstatě \"k ničemu\""
   ]
  },
  {
   "cell_type": "code",
   "execution_count": null,
   "metadata": {
    "scrolled": false
   },
   "outputs": [],
   "source": [
    "dataS %>%\n",
    "  group_by(vyrobce)"
   ]
  },
  {
   "cell_type": "code",
   "execution_count": null,
   "metadata": {
    "scrolled": false
   },
   "outputs": [],
   "source": [
    "# Ideální pro spočítání sumárních charakteristik pro každého výrobce zvlášť, např. průměru\n",
    "dataS %>%\n",
    "  group_by(vyrobce) %>% \n",
    "  summarise(prum=mean(kap5))"
   ]
  },
  {
   "cell_type": "markdown",
   "metadata": {},
   "source": [
    "<hr>\n",
    "\n",
    "Otestujte své znalosti dplyr\n",
    " 1. Určete minimální a maximální hodnotu poklesu kapacit pro jednotlivé výrobce\n",
    "  1. Vytvořte nový sloupec pokles_rel, který bude určovat relativní pokles kapacity (v %) vzhledem ke stavu po 5 cyklech.\n",
    "  2. Poté vytvořte nový sloupec pokles_rel_dich, který bude obsahovat hodnotu \"vetsi\", bude-li relativní pokles nad 10% a \"mensi\", bude-li relativní pokles menší nebo roven 10 %\n",
    "\n",
    "Řešení naleznete na úplném konci skriptu."
   ]
  },
  {
   "cell_type": "code",
   "execution_count": null,
   "metadata": {
    "scrolled": false
   },
   "outputs": [],
   "source": []
  },
  {
   "cell_type": "markdown",
   "metadata": {},
   "source": [
    "<hr>\n",
    "\n",
    "**Závěrečná poznámka k dplyr (kterou je dobré dočíst až do konce...)\n",
    "Některé operace mohou vyhodit objekt typu \"tibble\".\n",
    "Jedná se o modernější data.frame, nicméně v některých funkcích může dělat problémy a způsobovat chybová hlášení!\n",
    "Jednoduše lze tento \"tibble\" objekt převést na typ data.frame pomocí as.data.frame().**"
   ]
  },
  {
   "cell_type": "markdown",
   "metadata": {},
   "source": [
    "### Poznámky ke grafice v R"
   ]
  },
  {
   "cell_type": "markdown",
   "metadata": {},
   "source": [
    " základem jsou tzv. high-level funkce, které vytvoří graf (tj. otevřou grafické oknou a vykreslí dle zadaných parametrů)\n",
    " na ně navazují tzv. low-level funkce, které něco do aktviního grafického okna přidají, samy o sobě neotevřou nové\n",
    " př. low-level funkcí - např. abline, points, lines, legend, title, axis ... které přidají přímku, body, legendu...\n",
    " tzn. před použitím \"low-level\" funkce je potřeba, volat \"high-level\" funkci (např. plot, boxplot, hist, barplot, pie,...)\n",
    "\n",
    " Další grafické parametry naleznete v nápovědě\n",
    " nebo např. zde http://www.statmethods.net/advgraphs/parameters.html\n",
    " nebo zde https://flowingdata.com/2015/03/17/r-cheat-sheet-for-graphical-parameters/\n",
    " nebo http://bcb.dfci.harvard.edu/~aedin/courses/BiocDec2011/2.Plotting.pdf\n",
    "\n",
    " Barvy v R\n",
    " http://www.stat.columbia.edu/~tzheng/files/Rcolor.pdf\n",
    " https://www.nceas.ucsb.edu/~frazier/RSpatialGuides/colorPaletteCheatsheet.pdf\n",
    "\n",
    " Ukládání grafů lze např. pomocí funkce dev.print, jpeg, pdf a dalších.\n",
    " Jednodušeji pak v okně Plots -> Export"
   ]
  },
  {
   "cell_type": "markdown",
   "metadata": {},
   "source": [
    "## 5. Explorační analýza a vizualizace kategoriální proměnné"
   ]
  },
  {
   "cell_type": "code",
   "execution_count": null,
   "metadata": {
    "scrolled": false
   },
   "outputs": [],
   "source": [
    "# Tabulka absolutních četností kategoriální proměnné výrobce...\n",
    "cetnosti=table(dataS$vyrobce)\n",
    "cetnosti #výpis - objekt typu \"table\" - většinou vhodnější, ale těžší převedení do typu data.frame"
   ]
  },
  {
   "cell_type": "code",
   "execution_count": null,
   "metadata": {
    "scrolled": false
   },
   "outputs": [],
   "source": [
    "#...a pomocí funkcí z dplyr (složitější)\n",
    "abs.cetnosti = dataS %>%\n",
    "                  group_by(vyrobce) %>%\n",
    "                  summarise(cetnost = n())  # počet výrobků pro každého výrobce"
   ]
  },
  {
   "cell_type": "code",
   "execution_count": null,
   "metadata": {
    "scrolled": false
   },
   "outputs": [],
   "source": [
    "abs.cetnosti #výpis - objekt typu \"tibble\" - hodí se, když potřebujeme jednoduše převést na typ data.frame"
   ]
  },
  {
   "cell_type": "markdown",
   "metadata": {},
   "source": [
    "<hr>\n",
    "\n",
    "#### Tabulka relativních četností"
   ]
  },
  {
   "cell_type": "code",
   "execution_count": null,
   "metadata": {
    "scrolled": false
   },
   "outputs": [],
   "source": [
    "# Přímým výpočtem\n",
    "rel.cetnosti=100*cetnosti/sum(cetnosti)   \n",
    "rel.cetnosti # výpis"
   ]
  },
  {
   "cell_type": "code",
   "execution_count": null,
   "metadata": {
    "scrolled": false
   },
   "outputs": [],
   "source": [
    "# nebo pomocí funkce prop.table\n",
    "rel.cetnosti2=prop.table(cetnosti)*100\n",
    "rel.cetnosti2 # výpis"
   ]
  },
  {
   "cell_type": "code",
   "execution_count": null,
   "metadata": {
    "scrolled": false
   },
   "outputs": [],
   "source": [
    "# nebo pomocí funkcí dplyr, kde budou zahrnuty i absolutní četnosti\n",
    "tabulka_abs_rel = dataS %>%\n",
    "                    group_by(vyrobce) %>%\n",
    "                    summarise(cetnost = n()) %>%   \n",
    "                    mutate(rel_cet_proc = round(100*(cetnost / sum(cetnost) ),1) )\n",
    "tabulka_abs_rel # výpis"
   ]
  },
  {
   "cell_type": "code",
   "execution_count": null,
   "metadata": {
    "scrolled": false
   },
   "outputs": [],
   "source": [
    "# U všech tabulek je potřeba pohlídat zaokrouhlení a s ním spojené riziko zaokrouhlovací chyby.\n",
    "# Postup pro rel.cetnosti a rel.cetnosti2 je stejný.\n",
    "rel.cetnosti=round(rel.cetnosti,digits=1) # zaokrouhlení na 1 desetinné místo\n",
    "rel.cetnosti[4]=100-sum(rel.cetnosti[1:3]) # ohlídání zaokrouhlovací chyby"
   ]
  },
  {
   "cell_type": "code",
   "execution_count": null,
   "metadata": {
    "scrolled": false
   },
   "outputs": [],
   "source": [
    "# Postup pro tabulka_abs_rel je jiný, a to kvůli jinému formátu (tibble)\n",
    "tabulka_abs_rel[4,3]=100-sum((tabulka_abs_rel[1:3,3]))"
   ]
  },
  {
   "cell_type": "markdown",
   "metadata": {},
   "source": [
    "#### Vytvoření tabulky s absolutními i rel. četnostmi (bez dplyr). Máme:"
   ]
  },
  {
   "cell_type": "code",
   "execution_count": null,
   "metadata": {
    "scrolled": false
   },
   "outputs": [],
   "source": [
    "cetnosti"
   ]
  },
  {
   "cell_type": "code",
   "execution_count": null,
   "metadata": {
    "scrolled": false
   },
   "outputs": [],
   "source": [
    "rel.cetnosti"
   ]
  },
  {
   "cell_type": "code",
   "execution_count": null,
   "metadata": {
    "scrolled": false
   },
   "outputs": [],
   "source": [
    "tabulka=cbind(cetnosti,rel.cetnosti)  # sloučení tabulek\n",
    "colnames(tabulka)=c(\"četnost\",\"rel.četnost (%)\") # změna názvů sloupců\n",
    "tabulka"
   ]
  },
  {
   "cell_type": "markdown",
   "metadata": {},
   "source": [
    "#### Uložení tabulky do csv souboru pro export do MS Excel"
   ]
  },
  {
   "cell_type": "code",
   "execution_count": null,
   "metadata": {
    "scrolled": false
   },
   "outputs": [],
   "source": [
    "write.csv2(tabulka,file=\"tabulka.csv\")"
   ]
  },
  {
   "cell_type": "code",
   "execution_count": null,
   "metadata": {
    "scrolled": false
   },
   "outputs": [],
   "source": [
    "# Kde je tabulka uložena? Bez uvedení kompletní cesty v předchozím příkazu je uložena v pracovním adresáři.\n",
    "getwd()"
   ]
  },
  {
   "cell_type": "markdown",
   "metadata": {},
   "source": [
    "<hr>\n",
    "\n",
    "### Vizualizace pomocí grafů"
   ]
  },
  {
   "cell_type": "code",
   "execution_count": null,
   "metadata": {
    "scrolled": true
   },
   "outputs": [],
   "source": [
    "# Sloupcový graf\n",
    "# Základní (tzn. nevyžadující žádný balíček) sloupcový graf vychází z tabulky četností, kterou máme nachystanou\n",
    "par(mfrow = c(1,1), # jednoduché rozdělení grafického okna - 1 řádek, 1 sloupec\n",
    "    mar = c(2,2,2,2), # okraje kolem každého z grafů v počtech řádků - - c(dole, vlevo, nahoře, vpravo)\n",
    "    oma = c(2,2,2,2)) # vnější okraje v počtech řádků - c(dole, vlevo, nahoře, vpravo)\n",
    "barplot(cetnosti)"
   ]
  },
  {
   "cell_type": "code",
   "execution_count": null,
   "metadata": {
    "scrolled": true
   },
   "outputs": [],
   "source": [
    "# Změna barev, přidání názvu\n",
    "barplot(cetnosti,\n",
    "        col=heat.colors(4), # alt. může být volen vektor konkrétních barev, např. c(\"blue\",\"yellow,\"red\",\"green\") \n",
    "        # nebo jiné škály (heat.colors, topo.colors, terrain.colors a mnoho dalších)\n",
    "        main=\"Zastoupení výrobců ve výběru\",\n",
    "        space=0.6) # parametr space vytvoří mezeru mezi sloupci"
   ]
  },
  {
   "cell_type": "code",
   "execution_count": null,
   "metadata": {
    "scrolled": true
   },
   "outputs": [],
   "source": [
    "# Přidání dalších popisků a legendy\n",
    "barplot(cetnosti,\n",
    "        col=heat.colors(4),\n",
    "        horiz=TRUE,                            # horizontální orientace grafu\n",
    "        border=FALSE,                   # nevykresluje čáru kolem sloupečků\n",
    "        main=\"Zastoupení výrobců ve výběru\",\n",
    "        names.arg=paste0(\"Výrobce \\n\",names(cetnosti))) \n",
    "# Funkce paste0 umožňuje sloučit textové řetězce a hodnoty proměnných, symbol \"\\n\" tvoří nový řádek v textu\n",
    "legend(\"right\",                             # umístění legendy u sloupcového grafu je velmi ošemetné\n",
    "       paste(\"Výrobce\",names(cetnosti)),       # mnohem snadněji se v tomto případě pracuje s ggplot2\n",
    "       col=heat.colors(4),\n",
    "       fill=heat.colors(4),\n",
    "       border=TRUE,\n",
    "       bty=\"n\")"
   ]
  },
  {
   "cell_type": "code",
   "execution_count": null,
   "metadata": {
    "scrolled": true
   },
   "outputs": [],
   "source": [
    "# Přidání absolutních a relativních četností k odpovídajícím sloupcům\n",
    "bp = barplot(cetnosti,\n",
    "             col=heat.colors(4),\n",
    "             main=\"Zastoupení výrobců ve výběru\",\n",
    "             names.arg=paste(\"Výrobce\",names(cetnosti)))\n",
    "text(bp,\n",
    "     cetnosti,paste0(cetnosti,\"; \",rel.cetnosti,\"%\"),\n",
    "     pos=1)\n",
    "# parametr pos udává, kde bude text uveden vzhledem k dané pozici (1 = pod, 2 = vlevo, 3 = nad, 4 = vpravo) "
   ]
  },
  {
   "cell_type": "markdown",
   "metadata": {},
   "source": [
    "Zkuste využít předešlého kódu a vytvořit si sloupcový graf pro proměnnou Výrobce podle sebe.\n",
    "\n",
    "<hr>\n",
    "\n",
    "#### Koláčový graf"
   ]
  },
  {
   "cell_type": "code",
   "execution_count": null,
   "metadata": {
    "scrolled": true
   },
   "outputs": [],
   "source": [
    "# Základní koláčový graf vychází z tabulky četností, kterou máme nachystanou\n",
    "cetnosti\n",
    "pie(cetnosti)"
   ]
  },
  {
   "cell_type": "code",
   "execution_count": null,
   "metadata": {
    "scrolled": true
   },
   "outputs": [],
   "source": [
    "# Přidání názvu grafu a popisků, úprava barev\n",
    "pie(cetnosti,\n",
    "    col=topo.colors(4), \n",
    "    main=\"Zastoupení výrobců ve výběru\", # název grafu\n",
    "    labels=c(\"Výrobce A\",\"Výrobce B\",\"Výrobce C\",\"Výrobce D\")) # popisky"
   ]
  },
  {
   "cell_type": "code",
   "execution_count": null,
   "metadata": {
    "scrolled": true
   },
   "outputs": [],
   "source": [
    "# Pokročilejší popisky - sloučení abs. četností a rel. četností pomocí funkce paste\n",
    "# Funkce paste umožňuje sloučit textové řetězce a hodnoty proměnných, symbol \"\\n\" tvoří nový řádek v textu\n",
    "pie(cetnosti,\n",
    "    col=heat.colors(4),\n",
    "    main=\"Zastoupení výrobců ve výběru\",\n",
    "    labels=paste0(\"Výrobce \",names(cetnosti),\"\\n\",cetnosti,\"; \",rel.cetnosti,\"%\"))"
   ]
  },
  {
   "cell_type": "markdown",
   "metadata": {},
   "source": [
    "Pro zájemce - balíček plotrix a funkce pie3D vytvoří 3D koláčový graf\n",
    "\n",
    "Zkuste využít předešlého kódu a vytvořit koláčový graf pro proměnnou Výrobce podle sebe."
   ]
  },
  {
   "cell_type": "markdown",
   "metadata": {},
   "source": [
    " **Pie charts are a very bad way of displaying information.\n",
    " The eye is good at judging linear measures and bad at judging relative areas.\n",
    " A bar chart or dot chart is a preferable way of displaying this type of data.**"
   ]
  },
  {
   "cell_type": "markdown",
   "metadata": {},
   "source": [
    "## 6. Explorační analýza a vizualizace kvantitativní proměnné"
   ]
  },
  {
   "cell_type": "code",
   "execution_count": null,
   "metadata": {
    "scrolled": false
   },
   "outputs": [],
   "source": [
    "# Popisná statistika\n",
    "summary(dataS$kap5)"
   ]
  },
  {
   "cell_type": "code",
   "execution_count": null,
   "metadata": {
    "scrolled": false
   },
   "outputs": [],
   "source": [
    "# Výpočet průměru jedné proměnné\n",
    "mean(dataS$kap5)"
   ]
  },
  {
   "cell_type": "code",
   "execution_count": null,
   "metadata": {
    "scrolled": false
   },
   "outputs": [],
   "source": [
    "mean(a5)"
   ]
  },
  {
   "cell_type": "code",
   "execution_count": null,
   "metadata": {
    "scrolled": false
   },
   "outputs": [],
   "source": [
    "# Pozor na chybějící hodnoty\n",
    "mean(data$C5)"
   ]
  },
  {
   "cell_type": "code",
   "execution_count": null,
   "metadata": {
    "scrolled": false
   },
   "outputs": [],
   "source": [
    "mean(data$C5,na.rm=TRUE)"
   ]
  },
  {
   "cell_type": "code",
   "execution_count": null,
   "metadata": {
    "scrolled": false
   },
   "outputs": [],
   "source": [
    "# Výpočet mediánu jedné proměnné\n",
    "quantile(dataS$kap5,probs=0.5)"
   ]
  },
  {
   "cell_type": "code",
   "execution_count": null,
   "metadata": {
    "scrolled": false
   },
   "outputs": [],
   "source": [
    "quantile(a5,probs=0.5)"
   ]
  },
  {
   "cell_type": "code",
   "execution_count": null,
   "metadata": {
    "scrolled": false
   },
   "outputs": [],
   "source": [
    "# Určení rozsahu\n",
    "length(dataS$kap5)"
   ]
  },
  {
   "cell_type": "markdown",
   "metadata": {},
   "source": [
    "#### Další charakteristiky -> var(), sd(), min(), max(),...\n",
    "\n",
    "Pozor! Funkce pro výpočet šikmosti (skewness) a špičatosti (kurtosis) nejsou součástí základního R, najdete je v balíčku moments\n",
    "\n",
    "Normálnímu rozdělení odpovídá špičatost 3, resp. špčatost v intervalu (1,5)\n",
    "\n",
    "Pro standardizaci špičatosti je nutno od vypočtené hodnoty odečíst 3.\n",
    "\n",
    "Napíšete-li před název funkce název balíčku a \"::\", zajistíte tím, že bude použita funkce z daného balíčku\n",
    "\n",
    "Nutno ohlídat, když jsou v různých balíčcích definovány různé funkce pod stejným jménem"
   ]
  },
  {
   "cell_type": "code",
   "execution_count": null,
   "metadata": {
    "scrolled": false
   },
   "outputs": [],
   "source": [
    "# install.packages(\"moments\")"
   ]
  },
  {
   "cell_type": "code",
   "execution_count": null,
   "metadata": {
    "scrolled": false
   },
   "outputs": [],
   "source": [
    "library(moments)"
   ]
  },
  {
   "cell_type": "code",
   "execution_count": null,
   "metadata": {
    "scrolled": false
   },
   "outputs": [],
   "source": [
    "moments::skewness(a5)"
   ]
  },
  {
   "cell_type": "code",
   "execution_count": null,
   "metadata": {
    "scrolled": false
   },
   "outputs": [],
   "source": [
    "moments::kurtosis(a5)-3"
   ]
  },
  {
   "cell_type": "code",
   "execution_count": null,
   "metadata": {
    "scrolled": false
   },
   "outputs": [],
   "source": [
    "# Chceme-li spočítat danou charakteristiku pro proměnnou kapacita po 5 cyklech podle výrobců, můžeme použít funkci tapply\n",
    "tapply(dataS$kap5, dataS$vyrobce, mean, na.rm=T)"
   ]
  },
  {
   "cell_type": "code",
   "execution_count": null,
   "metadata": {
    "scrolled": false
   },
   "outputs": [],
   "source": [
    "# nebo pomocí dplyr - zde pozor na automatické (ne vždy správné zaokrouhlení)\n",
    "dataS %>% \n",
    "  group_by(vyrobce) %>% \n",
    "  summarise(mean(kap5,na.rm=T))"
   ]
  },
  {
   "cell_type": "code",
   "execution_count": null,
   "metadata": {
    "scrolled": false
   },
   "outputs": [],
   "source": [
    "# Pro zjednodušení práce můžeme využít funkce dplyr a všechny charakteristiky si nasázet do jedné tabulky\n",
    "dataS %>%    # bez použití group_by pro celou proměnnou kap5\n",
    "  summarise(rozsah=length(kap5),\n",
    "            minimum=min(kap5,na.rm=T),     # preventivní na.rm=T\n",
    "            Q1=quantile(kap5,0.25,na.rm=T),\n",
    "            prumer=mean(kap5,na.rm=T),\n",
    "            median=median(kap5,na.rm=T),\n",
    "            Q3=quantile(kap5,0.75,na.rm=T),\n",
    "            maximum=max(kap5,na.rm=T),\n",
    "            rozptyl=var(kap5,na.rm=T),\n",
    "            smerodatna_odchylka=sd(kap5,na.rm=T),\n",
    "            variacni_koeficient=(100*(smerodatna_odchylka/prumer)),  # variační koeficient v procentech\n",
    "            sikmost=(moments::skewness(kap5,na.rm=T)),       # preventivní specifikace balíčku moments\n",
    "            spicatost=(moments::kurtosis(kap5,na.rm=T)-3)) "
   ]
  },
  {
   "cell_type": "code",
   "execution_count": null,
   "metadata": {
    "scrolled": false
   },
   "outputs": [],
   "source": [
    "# Nezapoměňte na správné zaokrouhlení!\n",
    "# Použijeme group_by a dostaneme charakteristiky pro kapacitu po 5 cyklech podle výrobců\n",
    "# Vzhledem k neúplnému výpisu je vhodné si výstup uložit a prohlédnout si jej v novém okně\n",
    "charakteristiky_dle_vyrobce = \n",
    "  dataS %>%\n",
    "    group_by(vyrobce) %>% \n",
    "    summarise(rozsah=length(kap5),\n",
    "            minimum=min(kap5,na.rm=T),\n",
    "            Q1=quantile(kap5,0.25,na.rm=T),\n",
    "            prumer=mean(kap5,na.rm=T),\n",
    "            median=median(kap5,na.rm=T),\n",
    "            Q3=quantile(kap5,0.75,na.rm=T),\n",
    "            maximum=max(kap5,na.rm=T),\n",
    "            rozptyl=var(kap5,na.rm=T),\n",
    "            smerodatna_odchylka=sd(kap5,na.rm=T),\n",
    "            variacni_koeficient=(100*(smerodatna_odchylka/prumer)),  # variační koeficient v procentech\n",
    "            sikmost=(moments::skewness(kap5,na.rm=T)),\n",
    "            spicatost=(moments::kurtosis(kap5,na.rm=T)-3))"
   ]
  },
  {
   "cell_type": "code",
   "execution_count": null,
   "metadata": {
    "scrolled": false
   },
   "outputs": [],
   "source": [
    "charakteristiky_dle_vyrobce"
   ]
  },
  {
   "cell_type": "markdown",
   "metadata": {},
   "source": [
    "<hr>\n",
    "\n",
    "### Krabicový graf"
   ]
  },
  {
   "cell_type": "code",
   "execution_count": null,
   "metadata": {
    "scrolled": false
   },
   "outputs": [],
   "source": [
    "# Jednoduché a rychlé vykreslení pomocí základní funkce pouze pro výrobce C\n",
    "boxplot(c5)"
   ]
  },
  {
   "cell_type": "code",
   "execution_count": null,
   "metadata": {
    "scrolled": false
   },
   "outputs": [],
   "source": [
    "# Další úprava grafu, využití funkce points pro zobrazení průměru\n",
    "boxplot(c5,\n",
    "        main=\"Kapacita po 5 cyklech (mAh)\", \n",
    "        xlab=\"Výrobce C\",\n",
    "        ylab=\"kapacita (mAh)\",\n",
    "        col=\"grey\")\n",
    "points(1, mean(c5,na.rm=TRUE), pch=3) # do stávajícího grafu doplní bod znázorňující průměr"
   ]
  },
  {
   "cell_type": "code",
   "execution_count": null,
   "metadata": {
    "scrolled": false
   },
   "outputs": [],
   "source": [
    "# Horizontální orientace, změna šířky krabice\n",
    "boxplot(c5,\n",
    "        main=\"Kapacita po 5 cyklech (mAh), výrobce C\", \n",
    "        horizontal=TRUE,  # při horizontální orientaci je třeba si ohlídat opačné nastavení popisků\n",
    "        xlab=\"kapacita (mAh)\",\n",
    "        boxwex=0.5)  # změní šířku krabice na 1/2"
   ]
  },
  {
   "cell_type": "markdown",
   "metadata": {},
   "source": [
    "Využijte předešlého kódu a vytvořte si krabicový graf podle sebe."
   ]
  },
  {
   "cell_type": "code",
   "execution_count": null,
   "metadata": {
    "scrolled": false
   },
   "outputs": [],
   "source": []
  },
  {
   "cell_type": "code",
   "execution_count": null,
   "metadata": {
    "scrolled": false
   },
   "outputs": [],
   "source": [
    "# A ještě vykreslení vícenásobného krabicového grafu\n",
    "boxplot(dataS$kap5~dataS$vyrobce) # grafické parametry lze nastavit obdobně jako u předchozích"
   ]
  },
  {
   "cell_type": "code",
   "execution_count": null,
   "metadata": {
    "scrolled": false
   },
   "outputs": [],
   "source": [
    "boxplot(a5,b5,c5,d5)"
   ]
  },
  {
   "cell_type": "markdown",
   "metadata": {},
   "source": [
    "<hr>\n",
    "\n",
    "#### Histogram"
   ]
  },
  {
   "cell_type": "code",
   "execution_count": null,
   "metadata": {
    "scrolled": false
   },
   "outputs": [],
   "source": [
    "# Jednoduché a rychlé vykreslení\n",
    "hist(a5)"
   ]
  },
  {
   "cell_type": "code",
   "execution_count": null,
   "metadata": {
    "scrolled": false
   },
   "outputs": [],
   "source": [
    "hist(a5,breaks=10) # Co dělají různé hodnoty parametru breaks s grafem?"
   ]
  },
  {
   "cell_type": "code",
   "execution_count": null,
   "metadata": {
    "scrolled": false
   },
   "outputs": [],
   "source": [
    "hist(a5,breaks=10) # Co dělají různé hodnoty parametru breaks s grafem?"
   ]
  },
  {
   "cell_type": "code",
   "execution_count": null,
   "metadata": {
    "scrolled": false
   },
   "outputs": [],
   "source": [
    "# Již tradičně lze nastavit popisky, barvy a další parametry\n",
    "hist(a5, \n",
    "     main=\"Histogram pro kapacitu akumulátorů po 5 cyklech, výrobce A\", \n",
    "     xlab=\"kapacita (mAh)\",\n",
    "     ylab=\"četnost\",\n",
    "     col=\"blue\",       # barva výplně\n",
    "     border=\"grey\",    # barva ohraničení sloupců\n",
    "     labels=TRUE)         # přidá absolutní četnosti daných kategorií ve formě popisků"
   ]
  },
  {
   "cell_type": "code",
   "execution_count": null,
   "metadata": {
    "scrolled": false
   },
   "outputs": [],
   "source": [
    "# Změna měřítka osy y, kvůli vykreslení odhadu hustoty pravděpodobnosti\n",
    "hist(a5, \n",
    "     main=\"Histogram pro kapacitu akumulátorů po 5 cyklech, výrobce A\", \n",
    "     xlab=\"kapacita (mAh)\",\n",
    "     ylab=\"f(x)\",\n",
    "     col=\"cadetblue1\", \n",
    "     border=\"grey\",\n",
    "     freq=FALSE)\t       # změna měřítka na ose y --> f(x)\n",
    "lines(density(a5))        # připojí graf odhadu hustoty pravděpodobnosti\n",
    "# Generování hustoty normálního rozdělení a přidání k histogramu\n",
    "xfit=seq(min(a5), max(a5), length=40)     # generování hodnot pro osu x\n",
    "yfit=dnorm(xfit, mean=mean(a5), sd=sd(a5))  # generování hodnot pro osu y\n",
    "lines(xfit, yfit, col=\"black\", lwd=2)    # do posledního grafu přidání křivky na základě výše vygenerovaných hodnot\n",
    "# Takto kombinovaný graf může posloužit k vizuálnímu posouzení normality."
   ]
  },
  {
   "cell_type": "markdown",
   "metadata": {},
   "source": [
    "**Využijte předešlého kódu a vytvořte si histogram podle sebe.**"
   ]
  },
  {
   "cell_type": "code",
   "execution_count": null,
   "metadata": {
    "scrolled": false
   },
   "outputs": [],
   "source": []
  },
  {
   "cell_type": "markdown",
   "metadata": {},
   "source": [
    "#### QQ-graf"
   ]
  },
  {
   "cell_type": "code",
   "execution_count": null,
   "metadata": {
    "scrolled": false
   },
   "outputs": [],
   "source": [
    "# Jednoduché a velmi rychlé vykreslení...\n",
    "qqnorm(a5)\n",
    "qqline(a5)"
   ]
  },
  {
   "cell_type": "code",
   "execution_count": null,
   "metadata": {
    "scrolled": false
   },
   "outputs": [],
   "source": [
    "# ... s úpravou popisků os...\n",
    "qqnorm(a5, \n",
    "       xlab=\"Teoretické kvantily\",\n",
    "       ylab=\"Výběrové kvantily\",\n",
    "       main=\"QQ-graf, kapacita po 5 cyklech, výrobce A\")\n",
    "qqline(a5)"
   ]
  },
  {
   "cell_type": "code",
   "execution_count": null,
   "metadata": {
    "scrolled": false
   },
   "outputs": [],
   "source": []
  },
  {
   "cell_type": "markdown",
   "metadata": {},
   "source": [
    "<hr>\n",
    "\n",
    "Pro pokročilé a zájemce - automatizace, využití for-cyklu, více grafů do jednoho obrázku\n",
    "\n",
    "Využíváme-li základní funkce (barplot, boxplot, histogram), pak se využívá funkce par() nebo layout()\n",
    "\n",
    "V těchto funkcích specifikujeme strukturu - jak chceme více obrázků vykreslit"
   ]
  },
  {
   "cell_type": "code",
   "execution_count": null,
   "metadata": {
    "scrolled": false
   },
   "outputs": [],
   "source": [
    "# Např. chceme vykreslit histogram i boxplot pro kapacitu po 5 cyklech akumulátorů od výrobce A\n",
    "pom=layout(mat = matrix(1:2,2,1, byrow=FALSE), height = c(2.5,1)) # vytvoření struktury\n",
    "par(oma=c(2,2,3,2),mar=c(2,2,3,2)) # nastavení velikosti okrajů\n",
    "\n",
    "hist(a5, \n",
    "     main=\"Výrobce A\",\n",
    "     xlab=\"kapacita (mAh) po 5 cyklech\", \n",
    "     ylab=\"četnost\", \n",
    "     ylim=c(0,32), \n",
    "     xlim=c(1730,2040))\n",
    "boxplot(a5, \n",
    "        horizontal=TRUE, \n",
    "        ylim=c(1700,2040), \n",
    "        boxwex=1.5)"
   ]
  },
  {
   "cell_type": "code",
   "execution_count": null,
   "metadata": {
    "scrolled": false
   },
   "outputs": [],
   "source": [
    "# Pomocí for-cyklu histogramy a boxploty pro všechny výrobce\n",
    "pom=layout(mat = matrix(1:8,2,4, byrow=FALSE), height = c(1.5,1))\n",
    "\n",
    "for (i in 1:4){\n",
    "  hist(pull(data5,i), \n",
    "       main=paste(\"Výrobce\",colnames(data5)[i]), \n",
    "       xlab=\"\", \n",
    "       ylab=\"četnost\", \n",
    "       xlim=c(min(data5,na.rm=TRUE), max(data5,na.rm=TRUE)), \n",
    "       ylim=c(0,32))\n",
    "  boxplot(pull(data5,i), \n",
    "          horizontal=TRUE, \n",
    "          ylim=c(min(data5,na.rm=TRUE), max(data5,na.rm=TRUE)), \n",
    "          xlab=\"kapacita (mAh) po 5 cyklech\",\n",
    "          boxwex=1.5)\n",
    "}\n",
    "mtext(\"Kapacita akumulátorů (mAh) po 5 cyklech dle výrobců\", cex = 1.1, outer=TRUE, side=3)"
   ]
  },
  {
   "cell_type": "code",
   "execution_count": null,
   "metadata": {
    "scrolled": false
   },
   "outputs": [],
   "source": [
    "# Kombinace histogramu a QQ-plotu\n",
    "pom=layout(mat = matrix(1:8,2,4, byrow=FALSE), height = c(2,1.5))\n",
    "par(oma=c(2,2,3,2), mar=c(2,2,3,2))\n",
    "\n",
    "for (i in 1:4){\n",
    "  hist(pull(data5,i), \n",
    "       main=paste(\"Výrobce\",colnames(data5)[i]), \n",
    "       xlab=\"kapacita (mAh) po 5 cyklech\", \n",
    "       ylab=\"četnost\", \n",
    "       xlim=c(min(data5,na.rm=TRUE), max(data5,na.rm=TRUE)), \n",
    "       ylim=c(0,0.037),\n",
    "       freq=FALSE)\n",
    "  lines(density(pull(data5,i), na.rm=TRUE))\n",
    "  xfit=seq(min(pull(data5,i), na.rm=TRUE), max(pull(data5,i), na.rm=TRUE), length=40) \n",
    "  yfit=dnorm(xfit, mean=mean(pull(data5,i), na.rm=TRUE), sd=sd(pull(data5,i), na.rm=TRUE)) \n",
    "  lines(xfit, yfit, col=\"blue\", lty=2)\n",
    "  qqnorm(pull(data5,i),main = \"\")\n",
    "  qqline(pull(data5,i))\n",
    "}\n",
    "mtext(\"Kapacita akumulátorů po 5 cyklech (mAh)\", cex = 1.5, outer=TRUE, side=3)"
   ]
  },
  {
   "cell_type": "markdown",
   "metadata": {},
   "source": [
    "## 7. Identifikace odlehlých pozorování (a jejich odstranění z dat. rámce)"
   ]
  },
  {
   "cell_type": "code",
   "execution_count": null,
   "metadata": {
    "scrolled": false
   },
   "outputs": [],
   "source": [
    "# Zcela individuální posouzení - jednoduše si data seřadíme a podíváme se na \"chvosty\"\n",
    "# Při větším počtu dat velmi nepraktické, ale při menším rozsahu se může hodit.\n",
    "dataS %>%\n",
    "  filter(vyrobce==\"A\") %>% \n",
    "  arrange(vyrobce,kap5)"
   ]
  },
  {
   "cell_type": "markdown",
   "metadata": {},
   "source": [
    "<hr>"
   ]
  },
  {
   "cell_type": "code",
   "execution_count": null,
   "metadata": {
    "scrolled": false
   },
   "outputs": [],
   "source": [
    "# Ruční odstranění - využití funkce boxplot s parametrem plot=F - s ohledem na výrobce\n",
    "pom = boxplot(data5S$kap5~data5S$vyrobce, plot = F)\n",
    "pom   # v pom$out jsou uložena odlehlá pozorování detekována metodou vnitřních hradeb,\n",
    "      # v pom$group je info, ze které skupiny odlehlá pozorování jsou"
   ]
  },
  {
   "cell_type": "code",
   "execution_count": null,
   "metadata": {
    "scrolled": false
   },
   "outputs": [],
   "source": [
    "# Tyto konkrétní hodnoty jsou pak označeny v novém sloupci kap5_out jako NA\n",
    "dataS$kap5_out=dataS$kap5\n",
    "dataS$kap5_out[dataS$vyrobce == \"A\" & dataS$kap5>=2023] = NA\n",
    "dataS$kap5_out[dataS$vyrobce == \"C\" & dataS$kap5==1848.4] = NA\n",
    "dataS$kap5_out[dataS$vyrobce == \"D\" & dataS$kap5==1650.3] = NA"
   ]
  },
  {
   "cell_type": "markdown",
   "metadata": {},
   "source": [
    "<hr>"
   ]
  },
  {
   "cell_type": "code",
   "execution_count": null,
   "metadata": {
    "scrolled": false
   },
   "outputs": [],
   "source": [
    "#..................................................................\n",
    "# Použití vnitřních hradeb - obecnější postup - uvedeno bez ohledu na výrobce!!!\n",
    "IQR = quantile(dataS$kap5,0.75,na.rm=T)-quantile(dataS$kap5,0.25,na.rm=T)  # mezikvartilové rozpěti\n",
    "dolni_mez = quantile(dataS$kap5,0.25,na.rm=T)-1.5*IQR  # výpočet dolní mezi vnitřních hradeb\n",
    "horni_mez = quantile(dataS$kap5,0.75,na.rm=T)+1.5*IQR  # výpočet horní mezi vnitřních hradeb"
   ]
  },
  {
   "cell_type": "code",
   "execution_count": null,
   "metadata": {
    "scrolled": false
   },
   "outputs": [],
   "source": [
    "# Pomocí funkce mutate definování nového sloupce, ve kterém budou odlehlá pozorování odstraněna\n",
    "dataS = dataS %>%\n",
    "  mutate(kap5_out=ifelse(kap5>=horni_mez | kap5<=dolni_mez, NA, kap5))"
   ]
  },
  {
   "cell_type": "code",
   "execution_count": null,
   "metadata": {
    "scrolled": false
   },
   "outputs": [],
   "source": [
    "# nebo bez použití funkcí dplyr\n",
    "dataS$kap5_out=dataS$kap5\n",
    "dataS$kap5_out[dataS$kap5>=horni_mez | dataS$kap5<=dolni_mez]=NA"
   ]
  },
  {
   "cell_type": "markdown",
   "metadata": {},
   "source": [
    "**Analytik může vždy říct, že odlehlá pozorování odstraňovat nebude, ale tuto informaci musí do zápisu o analýze uvést!**"
   ]
  },
  {
   "cell_type": "markdown",
   "metadata": {},
   "source": [
    "## Otestujte své znalosti dplyr - řešení"
   ]
  },
  {
   "cell_type": "code",
   "execution_count": null,
   "metadata": {
    "scrolled": false
   },
   "outputs": [],
   "source": [
    "# 1. Určete minimální a maximální hodnotu poklesu kapacit pro jednotlivé výrobce\n",
    "dataS %>% \n",
    "  group_by(vyrobce) %>% \n",
    "  summarise(minima=min(pokles),maxima=max(pokles))"
   ]
  },
  {
   "cell_type": "code",
   "execution_count": null,
   "metadata": {
    "scrolled": false
   },
   "outputs": [],
   "source": [
    "# 2a. Vytvořte nový sloupec pokles_rel, který bude udávat relativní pokles kapacity (v %) vzhledem ke stavu po 5 cyklech\n",
    "# 2b. Poté vytvořte nový sloupec pokles_rel_dich, který bude obsahovat hodnotu \"vetsi\", bude-li relativní pokles nad 10%\n",
    "# a \"mensi\", bude-li relativní pokles menší nebo roven 10%\n",
    "dataS %>% \n",
    "  mutate(pokles_rel=100*pokles/kap5)"
   ]
  },
  {
   "cell_type": "code",
   "execution_count": null,
   "metadata": {
    "scrolled": false
   },
   "outputs": [],
   "source": [
    "dataS %>% \n",
    "  mutate(pokles_rel=100*pokles/kap5) %>% \n",
    "  mutate(pokles_rel_dich=ifelse(pokles_rel>10,\"vetsi\",\"mensi\"))"
   ]
  },
  {
   "cell_type": "code",
   "execution_count": null,
   "metadata": {
    "scrolled": true
   },
   "outputs": [],
   "source": []
  }
 ],
 "metadata": {
  "kernelspec": {
   "display_name": "R",
   "language": "R",
   "name": "ir"
  },
  "language_info": {
   "codemirror_mode": "r",
   "file_extension": ".r",
   "mimetype": "text/x-r-source",
   "name": "R",
   "pygments_lexer": "r",
   "version": "4.0.3"
  }
 },
 "nbformat": 4,
 "nbformat_minor": 5
}
